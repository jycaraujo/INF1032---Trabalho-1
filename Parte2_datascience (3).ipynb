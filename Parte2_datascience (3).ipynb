{
 "cells": [
  {
   "cell_type": "markdown",
   "metadata": {},
   "source": [
    "# T1 de Data Science - Parte 2\n",
    "\n",
    "Joyce Araújo - 1213110\n",
    "Gabriela Bevilacqua - 1511241"
   ]
  },
  {
   "cell_type": "markdown",
   "metadata": {},
   "source": [
    "Enunciado:\n",
    "O objetivo deste trabalho é comparar diversos métodos de classificação para a base de dados de qualidade de vinhos disponível em https://archive.ics.uci.edu/ml/machine-learning-databases/wine-quality/winequality-red.csv.\n",
    "\n",
    "Vocês devem encontrar um bom modelo preditivo, variando:\n",
    "* o número e conjunto de features (atributos) utilizados\n",
    "* o método utilizado\n",
    "* a configuração do algoritmo correspondente (e.g.: número k para nearest neighbors, profundidade para árvore de decisão)\n",
    "\n",
    "Vocês devem listar algumas métricas de qualidade, tais como: precision, recall, accuracy e f1_score, e utilizar accuracy como base para a avaliação final, considerando a accuracy média de 10 iterações para cada configuração.\n",
    "\n",
    "Para assegurar que eu obterei os mesmos resultados de vocês, vocês devem estabelecer a semente para a geração dos números aleatórios (utilizados para separar os conjuntos de treinamento e teste, por exemplo), utilizando os seguintes comandos no início do seu código (podem utilizar uma outra semente):\n",
    "```\n",
    "import random\n",
    "random.seed(1001001)\n",
    "```"
   ]
  },
  {
   "cell_type": "markdown",
   "metadata": {},
   "source": [
    "## Tabela de Vinhos"
   ]
  },
  {
   "cell_type": "code",
   "execution_count": 83,
   "metadata": {
    "collapsed": false
   },
   "outputs": [
    {
     "data": {
      "text/html": [
       "<div>\n",
       "<table border=\"1\" class=\"dataframe\">\n",
       "  <thead>\n",
       "    <tr style=\"text-align: right;\">\n",
       "      <th></th>\n",
       "      <th>fixed acidity</th>\n",
       "      <th>volatile acidity</th>\n",
       "      <th>citric acid</th>\n",
       "      <th>residual sugar</th>\n",
       "      <th>chlorides</th>\n",
       "      <th>free sulfur dioxide</th>\n",
       "      <th>total sulfur dioxide</th>\n",
       "      <th>density</th>\n",
       "      <th>pH</th>\n",
       "      <th>sulphates</th>\n",
       "      <th>alcohol</th>\n",
       "      <th>quality</th>\n",
       "    </tr>\n",
       "  </thead>\n",
       "  <tbody>\n",
       "    <tr>\n",
       "      <th>0</th>\n",
       "      <td>7.4</td>\n",
       "      <td>0.70</td>\n",
       "      <td>0.00</td>\n",
       "      <td>1.9</td>\n",
       "      <td>0.076</td>\n",
       "      <td>11.0</td>\n",
       "      <td>34.0</td>\n",
       "      <td>0.9978</td>\n",
       "      <td>3.51</td>\n",
       "      <td>0.56</td>\n",
       "      <td>9.4</td>\n",
       "      <td>5</td>\n",
       "    </tr>\n",
       "    <tr>\n",
       "      <th>1</th>\n",
       "      <td>7.8</td>\n",
       "      <td>0.88</td>\n",
       "      <td>0.00</td>\n",
       "      <td>2.6</td>\n",
       "      <td>0.098</td>\n",
       "      <td>25.0</td>\n",
       "      <td>67.0</td>\n",
       "      <td>0.9968</td>\n",
       "      <td>3.20</td>\n",
       "      <td>0.68</td>\n",
       "      <td>9.8</td>\n",
       "      <td>5</td>\n",
       "    </tr>\n",
       "    <tr>\n",
       "      <th>2</th>\n",
       "      <td>7.8</td>\n",
       "      <td>0.76</td>\n",
       "      <td>0.04</td>\n",
       "      <td>2.3</td>\n",
       "      <td>0.092</td>\n",
       "      <td>15.0</td>\n",
       "      <td>54.0</td>\n",
       "      <td>0.9970</td>\n",
       "      <td>3.26</td>\n",
       "      <td>0.65</td>\n",
       "      <td>9.8</td>\n",
       "      <td>5</td>\n",
       "    </tr>\n",
       "    <tr>\n",
       "      <th>3</th>\n",
       "      <td>11.2</td>\n",
       "      <td>0.28</td>\n",
       "      <td>0.56</td>\n",
       "      <td>1.9</td>\n",
       "      <td>0.075</td>\n",
       "      <td>17.0</td>\n",
       "      <td>60.0</td>\n",
       "      <td>0.9980</td>\n",
       "      <td>3.16</td>\n",
       "      <td>0.58</td>\n",
       "      <td>9.8</td>\n",
       "      <td>6</td>\n",
       "    </tr>\n",
       "    <tr>\n",
       "      <th>4</th>\n",
       "      <td>7.4</td>\n",
       "      <td>0.70</td>\n",
       "      <td>0.00</td>\n",
       "      <td>1.9</td>\n",
       "      <td>0.076</td>\n",
       "      <td>11.0</td>\n",
       "      <td>34.0</td>\n",
       "      <td>0.9978</td>\n",
       "      <td>3.51</td>\n",
       "      <td>0.56</td>\n",
       "      <td>9.4</td>\n",
       "      <td>5</td>\n",
       "    </tr>\n",
       "  </tbody>\n",
       "</table>\n",
       "</div>"
      ],
      "text/plain": [
       "   fixed acidity  volatile acidity  citric acid  residual sugar  chlorides  \\\n",
       "0            7.4              0.70         0.00             1.9      0.076   \n",
       "1            7.8              0.88         0.00             2.6      0.098   \n",
       "2            7.8              0.76         0.04             2.3      0.092   \n",
       "3           11.2              0.28         0.56             1.9      0.075   \n",
       "4            7.4              0.70         0.00             1.9      0.076   \n",
       "\n",
       "   free sulfur dioxide  total sulfur dioxide  density    pH  sulphates  \\\n",
       "0                 11.0                  34.0   0.9978  3.51       0.56   \n",
       "1                 25.0                  67.0   0.9968  3.20       0.68   \n",
       "2                 15.0                  54.0   0.9970  3.26       0.65   \n",
       "3                 17.0                  60.0   0.9980  3.16       0.58   \n",
       "4                 11.0                  34.0   0.9978  3.51       0.56   \n",
       "\n",
       "   alcohol  quality  \n",
       "0      9.4        5  \n",
       "1      9.8        5  \n",
       "2      9.8        5  \n",
       "3      9.8        6  \n",
       "4      9.4        5  "
      ]
     },
     "execution_count": 83,
     "metadata": {},
     "output_type": "execute_result"
    }
   ],
   "source": [
    "import pandas as pd\n",
    "\n",
    "csv_file = \"https://archive.ics.uci.edu/ml/machine-learning-databases/wine-quality/winequality-red.csv\"\n",
    "wine_raw = pd.read_csv(csv_file, sep=\";\")\n",
    "wine_data = pd.DataFrame(wine_raw)\n",
    "wine_data.head()"
   ]
  },
  {
   "cell_type": "markdown",
   "metadata": {},
   "source": [
    "## Analisando os dados"
   ]
  },
  {
   "cell_type": "code",
   "execution_count": 84,
   "metadata": {
    "collapsed": false
   },
   "outputs": [
    {
     "data": {
      "text/html": [
       "<div>\n",
       "<table border=\"1\" class=\"dataframe\">\n",
       "  <thead>\n",
       "    <tr style=\"text-align: right;\">\n",
       "      <th></th>\n",
       "      <th>fixed acidity</th>\n",
       "      <th>volatile acidity</th>\n",
       "      <th>citric acid</th>\n",
       "      <th>residual sugar</th>\n",
       "      <th>chlorides</th>\n",
       "      <th>free sulfur dioxide</th>\n",
       "      <th>total sulfur dioxide</th>\n",
       "      <th>density</th>\n",
       "      <th>pH</th>\n",
       "      <th>sulphates</th>\n",
       "      <th>alcohol</th>\n",
       "      <th>quality</th>\n",
       "    </tr>\n",
       "  </thead>\n",
       "  <tbody>\n",
       "    <tr>\n",
       "      <th>count</th>\n",
       "      <td>1599.000000</td>\n",
       "      <td>1599.000000</td>\n",
       "      <td>1599.000000</td>\n",
       "      <td>1599.000000</td>\n",
       "      <td>1599.000000</td>\n",
       "      <td>1599.000000</td>\n",
       "      <td>1599.000000</td>\n",
       "      <td>1599.000000</td>\n",
       "      <td>1599.000000</td>\n",
       "      <td>1599.000000</td>\n",
       "      <td>1599.000000</td>\n",
       "      <td>1599.000000</td>\n",
       "    </tr>\n",
       "    <tr>\n",
       "      <th>mean</th>\n",
       "      <td>8.319637</td>\n",
       "      <td>0.527821</td>\n",
       "      <td>0.270976</td>\n",
       "      <td>2.538806</td>\n",
       "      <td>0.087467</td>\n",
       "      <td>15.874922</td>\n",
       "      <td>46.467792</td>\n",
       "      <td>0.996747</td>\n",
       "      <td>3.311113</td>\n",
       "      <td>0.658149</td>\n",
       "      <td>10.422983</td>\n",
       "      <td>5.636023</td>\n",
       "    </tr>\n",
       "    <tr>\n",
       "      <th>std</th>\n",
       "      <td>1.741096</td>\n",
       "      <td>0.179060</td>\n",
       "      <td>0.194801</td>\n",
       "      <td>1.409928</td>\n",
       "      <td>0.047065</td>\n",
       "      <td>10.460157</td>\n",
       "      <td>32.895324</td>\n",
       "      <td>0.001887</td>\n",
       "      <td>0.154386</td>\n",
       "      <td>0.169507</td>\n",
       "      <td>1.065668</td>\n",
       "      <td>0.807569</td>\n",
       "    </tr>\n",
       "    <tr>\n",
       "      <th>min</th>\n",
       "      <td>4.600000</td>\n",
       "      <td>0.120000</td>\n",
       "      <td>0.000000</td>\n",
       "      <td>0.900000</td>\n",
       "      <td>0.012000</td>\n",
       "      <td>1.000000</td>\n",
       "      <td>6.000000</td>\n",
       "      <td>0.990070</td>\n",
       "      <td>2.740000</td>\n",
       "      <td>0.330000</td>\n",
       "      <td>8.400000</td>\n",
       "      <td>3.000000</td>\n",
       "    </tr>\n",
       "    <tr>\n",
       "      <th>25%</th>\n",
       "      <td>7.100000</td>\n",
       "      <td>0.390000</td>\n",
       "      <td>0.090000</td>\n",
       "      <td>1.900000</td>\n",
       "      <td>0.070000</td>\n",
       "      <td>7.000000</td>\n",
       "      <td>22.000000</td>\n",
       "      <td>0.995600</td>\n",
       "      <td>3.210000</td>\n",
       "      <td>0.550000</td>\n",
       "      <td>9.500000</td>\n",
       "      <td>5.000000</td>\n",
       "    </tr>\n",
       "    <tr>\n",
       "      <th>50%</th>\n",
       "      <td>7.900000</td>\n",
       "      <td>0.520000</td>\n",
       "      <td>0.260000</td>\n",
       "      <td>2.200000</td>\n",
       "      <td>0.079000</td>\n",
       "      <td>14.000000</td>\n",
       "      <td>38.000000</td>\n",
       "      <td>0.996750</td>\n",
       "      <td>3.310000</td>\n",
       "      <td>0.620000</td>\n",
       "      <td>10.200000</td>\n",
       "      <td>6.000000</td>\n",
       "    </tr>\n",
       "    <tr>\n",
       "      <th>75%</th>\n",
       "      <td>9.200000</td>\n",
       "      <td>0.640000</td>\n",
       "      <td>0.420000</td>\n",
       "      <td>2.600000</td>\n",
       "      <td>0.090000</td>\n",
       "      <td>21.000000</td>\n",
       "      <td>62.000000</td>\n",
       "      <td>0.997835</td>\n",
       "      <td>3.400000</td>\n",
       "      <td>0.730000</td>\n",
       "      <td>11.100000</td>\n",
       "      <td>6.000000</td>\n",
       "    </tr>\n",
       "    <tr>\n",
       "      <th>max</th>\n",
       "      <td>15.900000</td>\n",
       "      <td>1.580000</td>\n",
       "      <td>1.000000</td>\n",
       "      <td>15.500000</td>\n",
       "      <td>0.611000</td>\n",
       "      <td>72.000000</td>\n",
       "      <td>289.000000</td>\n",
       "      <td>1.003690</td>\n",
       "      <td>4.010000</td>\n",
       "      <td>2.000000</td>\n",
       "      <td>14.900000</td>\n",
       "      <td>8.000000</td>\n",
       "    </tr>\n",
       "  </tbody>\n",
       "</table>\n",
       "</div>"
      ],
      "text/plain": [
       "       fixed acidity  volatile acidity  citric acid  residual sugar  \\\n",
       "count    1599.000000       1599.000000  1599.000000     1599.000000   \n",
       "mean        8.319637          0.527821     0.270976        2.538806   \n",
       "std         1.741096          0.179060     0.194801        1.409928   \n",
       "min         4.600000          0.120000     0.000000        0.900000   \n",
       "25%         7.100000          0.390000     0.090000        1.900000   \n",
       "50%         7.900000          0.520000     0.260000        2.200000   \n",
       "75%         9.200000          0.640000     0.420000        2.600000   \n",
       "max        15.900000          1.580000     1.000000       15.500000   \n",
       "\n",
       "         chlorides  free sulfur dioxide  total sulfur dioxide      density  \\\n",
       "count  1599.000000          1599.000000           1599.000000  1599.000000   \n",
       "mean      0.087467            15.874922             46.467792     0.996747   \n",
       "std       0.047065            10.460157             32.895324     0.001887   \n",
       "min       0.012000             1.000000              6.000000     0.990070   \n",
       "25%       0.070000             7.000000             22.000000     0.995600   \n",
       "50%       0.079000            14.000000             38.000000     0.996750   \n",
       "75%       0.090000            21.000000             62.000000     0.997835   \n",
       "max       0.611000            72.000000            289.000000     1.003690   \n",
       "\n",
       "                pH    sulphates      alcohol      quality  \n",
       "count  1599.000000  1599.000000  1599.000000  1599.000000  \n",
       "mean      3.311113     0.658149    10.422983     5.636023  \n",
       "std       0.154386     0.169507     1.065668     0.807569  \n",
       "min       2.740000     0.330000     8.400000     3.000000  \n",
       "25%       3.210000     0.550000     9.500000     5.000000  \n",
       "50%       3.310000     0.620000    10.200000     6.000000  \n",
       "75%       3.400000     0.730000    11.100000     6.000000  \n",
       "max       4.010000     2.000000    14.900000     8.000000  "
      ]
     },
     "execution_count": 84,
     "metadata": {},
     "output_type": "execute_result"
    }
   ],
   "source": [
    "wine_raw.describe()"
   ]
  },
  {
   "cell_type": "code",
   "execution_count": 4,
   "metadata": {
    "collapsed": false
   },
   "outputs": [
    {
     "name": "stdout",
     "output_type": "stream",
     "text": [
      "<class 'pandas.core.frame.DataFrame'>\n",
      "RangeIndex: 1599 entries, 0 to 1598\n",
      "Data columns (total 12 columns):\n",
      "fixed acidity           1599 non-null float64\n",
      "volatile acidity        1599 non-null float64\n",
      "citric acid             1599 non-null float64\n",
      "residual sugar          1599 non-null float64\n",
      "chlorides               1599 non-null float64\n",
      "free sulfur dioxide     1599 non-null float64\n",
      "total sulfur dioxide    1599 non-null float64\n",
      "density                 1599 non-null float64\n",
      "pH                      1599 non-null float64\n",
      "sulphates               1599 non-null float64\n",
      "alcohol                 1599 non-null float64\n",
      "quality                 1599 non-null int64\n",
      "dtypes: float64(11), int64(1)\n",
      "memory usage: 150.0 KB\n"
     ]
    }
   ],
   "source": [
    "wine_data.info()"
   ]
  },
  {
   "cell_type": "code",
   "execution_count": 5,
   "metadata": {
    "collapsed": false
   },
   "outputs": [
    {
     "data": {
      "image/png": "[encoded data removed]",
      "text/plain": [
       "<matplotlib.figure.Figure at 0x1454da35908>"
      ]
     },
     "metadata": {},
     "output_type": "display_data"
    }
   ],
   "source": [
    "import matplotlib.pyplot as plt\n",
    "wine_data.quality.plot(kind='hist')\n",
    "plt.show()"
   ]
  },
  {
   "cell_type": "code",
   "execution_count": 86,
   "metadata": {
    "collapsed": false
   },
   "outputs": [
    {
     "data": {
      "text/plain": [
       "fixed acidity            15.90000\n",
       "volatile acidity          1.58000\n",
       "citric acid               1.00000\n",
       "residual sugar           15.50000\n",
       "chlorides                 0.61100\n",
       "free sulfur dioxide      72.00000\n",
       "total sulfur dioxide    289.00000\n",
       "density                   1.00369\n",
       "pH                        4.01000\n",
       "sulphates                 2.00000\n",
       "alcohol                  14.90000\n",
       "quality                   8.00000\n",
       "dtype: float64"
      ]
     },
     "execution_count": 86,
     "metadata": {},
     "output_type": "execute_result"
    }
   ],
   "source": [
    "wine_data.max()"
   ]
  },
  {
   "cell_type": "code",
   "execution_count": 87,
   "metadata": {
    "collapsed": false
   },
   "outputs": [
    {
     "data": {
      "text/plain": [
       "fixed acidity           4.60000\n",
       "volatile acidity        0.12000\n",
       "citric acid             0.00000\n",
       "residual sugar          0.90000\n",
       "chlorides               0.01200\n",
       "free sulfur dioxide     1.00000\n",
       "total sulfur dioxide    6.00000\n",
       "density                 0.99007\n",
       "pH                      2.74000\n",
       "sulphates               0.33000\n",
       "alcohol                 8.40000\n",
       "quality                 3.00000\n",
       "dtype: float64"
      ]
     },
     "execution_count": 87,
     "metadata": {},
     "output_type": "execute_result"
    }
   ],
   "source": [
    "wine_data.min()"
   ]
  },
  {
   "cell_type": "markdown",
   "metadata": {},
   "source": [
    "### Informações retiradas da análise\n",
    "Pela análise é possível ver que a qualidade dos vinhos é classificada sempre em número inteiros enquanto todos os outros parâmetros sobre os vinhos são medidos em valores flutuantes. É possível ver também que alguns parâmetros tem valores bem variados, como o \"total sulfur dioxide\" cujo valor varia entre 6.0 e 289.0. E outro ponto importante sobre a análise é que, como vamos avaliar a qualidade dos vinhos de acordo com os outros parâmetros do DataFrame, existem muito mais vinhos com classificação 5 e 6 do que 3, 4, 7, 8. Então, é bastante provável que o baixo número de exemplos para os vinhos com classificação 3, 4, 8 principalmente sejam preditos erroneamente."
   ]
  },
  {
   "cell_type": "markdown",
   "metadata": {},
   "source": [
    "## Definindo as sementes para geração de números pseudo-aleatórios"
   ]
  },
  {
   "cell_type": "code",
   "execution_count": 88,
   "metadata": {
    "collapsed": true
   },
   "outputs": [],
   "source": [
    "import random\n",
    "\n",
    "# Definir seed utilizada\n",
    "seed_num = 1001001\n",
    "seeds_split_train_test = [10, 15, 25, 50, 63, 42, 92, 104, 39, 75]"
   ]
  },
  {
   "cell_type": "markdown",
   "metadata": {},
   "source": [
    "## Separando as features para medição e para resposta"
   ]
  },
  {
   "cell_type": "code",
   "execution_count": 94,
   "metadata": {
    "collapsed": false
   },
   "outputs": [],
   "source": [
    "from sklearn.model_selection import train_test_split\n",
    "import numpy as np\n",
    "from sklearn import neighbors\n",
    "from sklearn import datasets\n",
    "from sklearn import metrics\n",
    "import math\n",
    "\n",
    "# Definir as features de medição\n",
    "all_features = ['fixed acidity', 'volatile acidity', 'citric acid', \n",
    "            'residual sugar', 'chlorides', 'free sulfur dioxide', \n",
    "            'total sulfur dioxide', 'density', 'pH', \n",
    "            'sulphates', 'alcohol']\n",
    "\n",
    "# Separando 10 conjuntos de features de medição para os 10 casos de teste\n",
    "feature_test_1 = ['fixed acidity', 'volatile acidity', 'citric acid']\n",
    "feature_test_2 = ['residual sugar']\n",
    "feature_test_3 = ['alcohol', 'density', 'pH']\n",
    "feature_test_4 = ['free sulfur dioxide', 'total sulfur dioxide']\n",
    "feature_test_5 = ['chlorides', 'citric acid', 'residual sugar']\n",
    "feature_test_6 = ['fixed acidity', 'volatile acidity', 'citric acid', 'residual sugar']\n",
    "feature_test_7 = ['fixed acidity', 'residual sugar', 'alcohol']\n",
    "feature_test_8 = ['sulphates', 'pH', 'alcohol', 'total sulfur dioxide']\n",
    "feature_test_9 = ['fixed acidity', 'volatile acidity', 'citric acid', 'residual sugar',\n",
    "                  'chlorides', 'free sulfur dioxide', 'alcohol', 'total sulfur dioxide']\n",
    "feature_test_10 = ['density', 'pH', 'residual sugar', 'chlorides', 'sulphates', 'alcohol', 'volatile acidity']\n",
    "\n",
    "features = []\n",
    "features.append(feature_test_1)\n",
    "features.append(feature_test_2)\n",
    "features.append(feature_test_3)\n",
    "features.append(feature_test_4)\n",
    "features.append(feature_test_5)\n",
    "features.append(feature_test_6)\n",
    "features.append(feature_test_7)\n",
    "features.append(feature_test_8)\n",
    "features.append(feature_test_9)\n",
    "features.append(feature_test_10)\n",
    "\n",
    "# Definindo a feature de resposta\n",
    "outcome_column = 'quality'\n",
    "\n",
    "# Definir todas as possíveis qualidades de vinhos (labels) como resposta\n",
    "outcome_labels = sorted(list(set(wine_data.quality)))\n",
    "# print(outcome_labels)\n",
    "\n",
    "Y = np.array(wine_data[outcome_column])"
   ]
  },
  {
   "cell_type": "markdown",
   "metadata": {},
   "source": [
    "## Função de separação dos conjuntos de treino e teste"
   ]
  },
  {
   "cell_type": "code",
   "execution_count": 95,
   "metadata": {
    "collapsed": true
   },
   "outputs": [],
   "source": [
    "def define_training_test(attributes, seed_number):\n",
    "    # Separar os conjuntos de treino e teste\n",
    "    Wine_Train, Wine_Test = train_test_split(wine_data, test_size=0.13, stratify=wine_data[outcome_column], random_state=np.random.seed(seed_number))\n",
    "\n",
    "    # Converter os conjuntos de treino para array\n",
    "    X_train = np.array(Wine_Train[attributes])\n",
    "    Y_train = np.array(Wine_Train[outcome_column])\n",
    "#     print(X_train.shape[0], Y_train.shape[0])\n",
    "\n",
    "    # Converter os conjuntos de teste para array\n",
    "    X_test = np.array(Wine_Test[attributes])\n",
    "    Y_test = np.array(Wine_Test[outcome_column])\n",
    "#     print(X_test.shape[0], Y_test.shape[0])\n",
    "\n",
    "    return X_train, Y_train, X_test, Y_test"
   ]
  },
  {
   "cell_type": "markdown",
   "metadata": {},
   "source": [
    "## Função para exibir as medidas de precision, recall, F1 score e accuracy de um teste"
   ]
  },
  {
   "cell_type": "code",
   "execution_count": 96,
   "metadata": {
    "collapsed": true
   },
   "outputs": [],
   "source": [
    "from sklearn import metrics\n",
    "\n",
    "_Precision = 1\n",
    "_Recall = 2\n",
    "_F1Score = 3\n",
    "_Accuracy = 4\n",
    "\n",
    "_AverageOfAllScores = 1 # Calcula a precisão/f1_score/recall de cada label e depois faz a média delas\n",
    "_OverallScore = 2 # Calcula a precisão/f1_score/recall global\n",
    "_ScoreByLabel = 3 # Calcula a precisão/f1_score/recall de cada label e retorna elas em um array\n",
    "\n",
    "def calculateScores(real_group, pred_group, score_type, average_type):\n",
    "    if(average_type == _AverageOfAllScores):\n",
    "        chosenAverage = \"macro\"\n",
    "    elif(average_type == _OverallScore):\n",
    "        chosenAverage = \"micro\"\n",
    "    elif(average_type == _ScoreByLabel):\n",
    "        chosenAverage = None\n",
    "    \n",
    "    if(score_type == _Precision):\n",
    "        return metrics.precision_score(y_true=real_group, y_pred=pred_group, average=chosenAverage)\n",
    "    elif(score_type == _Recall):\n",
    "        return metrics.recall_score(y_true=real_group, y_pred=pred_group, average=chosenAverage)\n",
    "    elif(score_type == _F1Score):\n",
    "        return metrics.f1_score(y_true=real_group, y_pred=pred_group, average=chosenAverage)\n",
    "    elif(score_type == _Accuracy):\n",
    "        # Normalizar os dados: Calcula a acur�cia\n",
    "        # Sem normalizar os dados: Calcula o n�mero total de TP\n",
    "        return metrics.accuracy_score(y_true=real_group, y_pred=pred_group, normalize=True)\n",
    "    \n",
    "    \n",
    "scores = ['Precision', 'Recall', 'F1 Score', 'Accuracy']\n",
    "\n",
    "def showScoreResults(score_name, real_group, pred_group):\n",
    "    if(score_name == scores[0]):\n",
    "        method = _Precision\n",
    "    elif(score_name == scores[1]):\n",
    "        method = _Recall\n",
    "    elif(score_name == scores[2]):\n",
    "        method = _F1Score\n",
    "    elif(score_name == scores[3]):\n",
    "        method = _Accuracy\n",
    "        \n",
    "    if(method == _Precision or method == _Recall or method == _F1Score):\n",
    "        score = calculateScores(real_group, pred_group, method, _AverageOfAllScores)\n",
    "        print('Average of all labels' + score_name + ':', '{:6.4f}'.format(score))\n",
    "        score = calculateScores(real_group, pred_group, method, _OverallScore)\n",
    "        print('Overall' + score_name + ':', '{:6.4f}'.format(score))\n",
    "        score = calculateScores(real_group, pred_group, method, _ScoreByLabel)\n",
    "        print(score_name + ' By Label')\n",
    "        for label in outcome_labels:\n",
    "            index = outcome_labels.index(label)\n",
    "            print('Label: ' + str(label) + '\\t' + '{:6.4f}'.format(score[index]))\n",
    "    elif(method == _Accuracy):\n",
    "        score = calculateScores(real_group, pred_group, method, 0)\n",
    "        print(score_name + ':', '{:6.4f}'.format(score))\n",
    "\n",
    "def showScores_TrainAndTest():\n",
    "    for score in scores:\n",
    "        print('\\n')\n",
    "        print('# ' + score)\n",
    "        print('#')\n",
    "        print('# Training Data')\n",
    "        showScoreResults(score, Y_train, Yhat_train)\n",
    "        print('#')\n",
    "        print('# Test Data')\n",
    "        showScoreResults(score, Y_test, Yhat)"
   ]
  },
  {
   "cell_type": "markdown",
   "metadata": {},
   "source": [
    "## Métodos de Classificação"
   ]
  },
  {
   "cell_type": "code",
   "execution_count": 165,
   "metadata": {
    "collapsed": true
   },
   "outputs": [],
   "source": [
    "data = []\n",
    "columns = ['KNN', 'Naive Bayes', 'Decision Tree', 'Logistic Regression', 'SVM', 'Random Forest']\n",
    "\n",
    "def measureModel(model):\n",
    "    accuracy_total = []\n",
    "    \n",
    "    for j in range(0, 2):\n",
    "        if(j == 0):\n",
    "            attributes = all_features\n",
    "        for i in range (0, 10):\n",
    "            if(j == 1):\n",
    "                attributes = features[i]\n",
    "\n",
    "            X = np.array(wine_data[attributes])\n",
    "            X_train, Y_train, X_test, Y_test = define_training_test(attributes, seeds_split_train_test[i])\n",
    "\n",
    "            #Train the classifier\n",
    "            model.fit(X_train,Y_train)\n",
    "\n",
    "            #Compute the prediction according to the model\n",
    "            Yhat = model.predict(X_test)\n",
    "\n",
    "            if(i == 0 and j == 1):\n",
    "                print('Para um dos casos de teste:')\n",
    "                Yhat_train = model.predict(X_train)\n",
    "                showScores_TrainAndTest();\n",
    "\n",
    "            accuracy_total.append(metrics.accuracy_score(y_true=Y_test, y_pred=Yhat, normalize=True))\n",
    "\n",
    "        accuracy_avg = np.mean(accuracy_total)\n",
    "    \n",
    "        if(j == 1):\n",
    "            print('\\nAcuracia media para 10 casos de teste: ' + str(accuracy_avg))\n",
    "        data.append(accuracy_avg)"
   ]
  },
  {
   "cell_type": "markdown",
   "metadata": {
    "collapsed": true
   },
   "source": [
    "### K-Nearest Neighbor (KNN)"
   ]
  },
  {
   "cell_type": "code",
   "execution_count": 166,
   "metadata": {
    "collapsed": false
   },
   "outputs": [
    {
     "name": "stdout",
     "output_type": "stream",
     "text": [
      "Para um dos casos de teste:\n",
      "\n",
      "\n",
      "# Precision\n",
      "#\n",
      "# Training Data\n",
      "Average of all labelsPrecision: 0.1541\n",
      "OverallPrecision: 0.3480\n",
      "Precision By Label\n",
      "Label: 3\t0.0000\n",
      "Label: 4\t0.0000\n",
      "Label: 5\t0.4139\n",
      "Label: 6\t0.3960\n",
      "Label: 7\t0.1149\n",
      "Label: 8\t0.0000\n",
      "#\n",
      "# Test Data\n",
      "Average of all labelsPrecision: 0.3696\n",
      "OverallPrecision: 0.6442\n",
      "Precision By Label\n",
      "Label: 3\t0.0000\n",
      "Label: 4\t0.2000\n",
      "Label: 5\t0.6813\n",
      "Label: 6\t0.6163\n",
      "Label: 7\t0.7200\n",
      "Label: 8\t0.0000\n",
      "\n",
      "\n",
      "# Recall\n",
      "#\n",
      "# Training Data\n",
      "Average of all labelsRecall: 0.1540\n",
      "OverallRecall: 0.3480\n",
      "Recall By Label\n",
      "Label: 3\t0.0000\n",
      "Label: 4\t0.0000\n",
      "Label: 5\t0.4139\n",
      "Label: 6\t0.3946\n",
      "Label: 7\t0.1156\n",
      "Label: 8\t0.0000\n",
      "#\n",
      "# Test Data\n",
      "Average of all labelsRecall: 0.3617\n",
      "OverallRecall: 0.6442\n",
      "Recall By Label\n",
      "Label: 3\t0.0000\n",
      "Label: 4\t0.1429\n",
      "Label: 5\t0.6966\n",
      "Label: 6\t0.6386\n",
      "Label: 7\t0.6923\n",
      "Label: 8\t0.0000\n",
      "\n",
      "\n",
      "# F1 Score\n",
      "#\n",
      "# Training Data\n",
      "Average of all labelsF1 Score: 0.1541\n",
      "OverallF1 Score: 0.3480\n",
      "F1 Score By Label\n",
      "Label: 3\t0.0000\n",
      "Label: 4\t0.0000\n",
      "Label: 5\t0.4139\n",
      "Label: 6\t0.3953\n",
      "Label: 7\t0.1153\n",
      "Label: 8\t0.0000\n",
      "#\n",
      "# Test Data\n",
      "Average of all labelsF1 Score: 0.3648\n",
      "OverallF1 Score: 0.6442\n",
      "F1 Score By Label\n",
      "Label: 3\t0.0000\n",
      "Label: 4\t0.1667\n",
      "Label: 5\t0.6889\n",
      "Label: 6\t0.6272\n",
      "Label: 7\t0.7059\n",
      "Label: 8\t0.0000\n",
      "\n",
      "\n",
      "# Accuracy\n",
      "#"
     ]
    },
    {
     "name": "stderr",
     "output_type": "stream",
     "text": [
      "C:\\Users\\gabi_\\Anaconda3\\lib\\site-packages\\sklearn\\metrics\\classification.py:1113: UndefinedMetricWarning: Precision is ill-defined and being set to 0.0 in labels with no predicted samples.\n",
      "  'precision', 'predicted', average, warn_for)\n",
      "C:\\Users\\gabi_\\Anaconda3\\lib\\site-packages\\sklearn\\metrics\\classification.py:1113: UndefinedMetricWarning: F-score is ill-defined and being set to 0.0 in labels with no predicted samples.\n",
      "  'precision', 'predicted', average, warn_for)\n"
     ]
    },
    {
     "name": "stdout",
     "output_type": "stream",
     "text": [
      "\n",
      "# Training Data\n",
      "Accuracy: 0.3480\n",
      "#\n",
      "# Test Data\n",
      "Accuracy: 0.6442\n",
      "\n",
      "Acuracia media para 10 casos de teste: 0.577163461538\n"
     ]
    }
   ],
   "source": [
    "#Create an instance of K-nearest neighbor classifier\n",
    "knn_model = neighbors.KNeighborsClassifier(n_neighbors=1)\n",
    "\n",
    "measureModel(knn_model)"
   ]
  },
  {
   "cell_type": "markdown",
   "metadata": {},
   "source": [
    "### Naive Bayes"
   ]
  },
  {
   "cell_type": "code",
   "execution_count": 167,
   "metadata": {
    "collapsed": false
   },
   "outputs": [
    {
     "name": "stdout",
     "output_type": "stream",
     "text": [
      "Para um dos casos de teste:\n",
      "\n",
      "\n",
      "# Precision\n",
      "#\n",
      "# Training Data\n",
      "Average of all labelsPrecision: 0.1541\n",
      "OverallPrecision: 0.3480\n",
      "Precision By Label\n",
      "Label: 3\t0.0000\n",
      "Label: 4\t0.0000\n",
      "Label: 5\t0.4139\n",
      "Label: 6\t0.3960\n",
      "Label: 7\t0.1149\n",
      "Label: 8\t0.0000\n",
      "#\n",
      "# Test Data\n",
      "Average of all labelsPrecision: 0.3696\n",
      "OverallPrecision: 0.6442\n",
      "Precision By Label\n",
      "Label: 3\t0.0000\n",
      "Label: 4\t0.2000\n",
      "Label: 5\t0.6813\n",
      "Label: 6\t0.6163\n",
      "Label: 7\t0.7200\n",
      "Label: 8\t0.0000\n",
      "\n",
      "\n",
      "# Recall\n",
      "#\n",
      "# Training Data\n",
      "Average of all labelsRecall: 0.1540\n",
      "OverallRecall: 0.3480\n",
      "Recall By Label\n",
      "Label: 3\t0.0000\n",
      "Label: 4\t0.0000\n",
      "Label: 5\t0.4139\n",
      "Label: 6\t0.3946\n",
      "Label: 7\t0.1156\n",
      "Label: 8\t0.0000\n",
      "#\n",
      "# Test Data\n",
      "Average of all labelsRecall: 0.3617\n",
      "OverallRecall: 0.6442\n",
      "Recall By Label\n",
      "Label: 3\t0.0000\n",
      "Label: 4\t0.1429\n",
      "Label: 5\t0.6966\n",
      "Label: 6\t0.6386\n",
      "Label: 7\t0.6923\n",
      "Label: 8\t0.0000\n",
      "\n",
      "\n",
      "# F1 Score\n",
      "#\n",
      "# Training Data\n",
      "Average of all labelsF1 Score: 0.1541\n",
      "OverallF1 Score: 0.3480\n",
      "F1 Score By Label\n",
      "Label: 3\t0.0000\n",
      "Label: 4\t0.0000\n",
      "Label: 5\t0.4139\n",
      "Label: 6\t0.3953\n",
      "Label: 7\t0.1153\n",
      "Label: 8\t0.0000\n",
      "#\n",
      "# Test Data\n",
      "Average of all labelsF1 Score: 0.3648\n",
      "OverallF1 Score: 0.6442\n",
      "F1 Score By Label\n",
      "Label: 3\t0.0000\n",
      "Label: 4\t0.1667\n",
      "Label: 5\t0.6889\n",
      "Label: 6\t0.6272\n",
      "Label: 7\t0.7059\n",
      "Label: 8\t0.0000\n",
      "\n",
      "\n",
      "# Accuracy\n",
      "#\n",
      "# Training Data\n",
      "Accuracy: 0.3480\n",
      "#\n",
      "# Test Data\n",
      "Accuracy: 0.6442\n"
     ]
    },
    {
     "name": "stderr",
     "output_type": "stream",
     "text": [
      "C:\\Users\\gabi_\\Anaconda3\\lib\\site-packages\\sklearn\\metrics\\classification.py:1113: UndefinedMetricWarning: Precision is ill-defined and being set to 0.0 in labels with no predicted samples.\n",
      "  'precision', 'predicted', average, warn_for)\n",
      "C:\\Users\\gabi_\\Anaconda3\\lib\\site-packages\\sklearn\\metrics\\classification.py:1113: UndefinedMetricWarning: F-score is ill-defined and being set to 0.0 in labels with no predicted samples.\n",
      "  'precision', 'predicted', average, warn_for)\n"
     ]
    },
    {
     "name": "stdout",
     "output_type": "stream",
     "text": [
      "\n",
      "Acuracia media para 10 casos de teste: 0.552163461538\n"
     ]
    }
   ],
   "source": [
    "from sklearn.naive_bayes import GaussianNB\n",
    "\n",
    "gnb = GaussianNB()\n",
    "\n",
    "measureModel(gnb)"
   ]
  },
  {
   "cell_type": "markdown",
   "metadata": {},
   "source": [
    "### Decision Tree"
   ]
  },
  {
   "cell_type": "code",
   "execution_count": 168,
   "metadata": {
    "collapsed": false
   },
   "outputs": [
    {
     "name": "stdout",
     "output_type": "stream",
     "text": [
      "Para um dos casos de teste:\n",
      "\n",
      "\n",
      "# Precision\n",
      "#\n",
      "# Training Data\n",
      "Average of all labelsPrecision: 0.1541\n",
      "OverallPrecision: 0.3480\n",
      "Precision By Label\n",
      "Label: 3\t0.0000\n",
      "Label: 4\t0.0000\n",
      "Label: 5\t0.4139\n",
      "Label: 6\t0.3960\n",
      "Label: 7\t0.1149\n",
      "Label: 8\t0.0000\n",
      "#\n",
      "# Test Data\n",
      "Average of all labelsPrecision: 0.3696\n",
      "OverallPrecision: 0.6442\n",
      "Precision By Label\n",
      "Label: 3\t0.0000\n",
      "Label: 4\t0.2000\n",
      "Label: 5\t0.6813\n",
      "Label: 6\t0.6163\n",
      "Label: 7\t0.7200\n",
      "Label: 8\t0.0000\n",
      "\n",
      "\n",
      "# Recall\n",
      "#\n",
      "# Training Data\n",
      "Average of all labelsRecall: 0.1540\n",
      "OverallRecall: 0.3480\n",
      "Recall By Label\n",
      "Label: 3\t0.0000\n",
      "Label: 4\t0.0000\n",
      "Label: 5\t0.4139\n",
      "Label: 6\t0.3946\n",
      "Label: 7\t0.1156\n",
      "Label: 8\t0.0000\n",
      "#\n",
      "# Test Data\n",
      "Average of all labelsRecall: 0.3617\n",
      "OverallRecall: 0.6442\n",
      "Recall By Label\n",
      "Label: 3\t0.0000\n",
      "Label: 4\t0.1429\n",
      "Label: 5\t0.6966\n",
      "Label: 6\t0.6386\n",
      "Label: 7\t0.6923\n",
      "Label: 8\t0.0000\n",
      "\n",
      "\n",
      "# F1 Score\n",
      "#\n",
      "# Training Data\n",
      "Average of all labelsF1 Score: 0.1541\n",
      "OverallF1 Score: 0.3480\n",
      "F1 Score By Label\n",
      "Label: 3\t0.0000\n",
      "Label: 4\t0.0000\n",
      "Label: 5\t0.4139\n",
      "Label: 6\t0.3953\n",
      "Label: 7\t0.1153\n",
      "Label: 8\t0.0000\n",
      "#\n",
      "# Test Data\n",
      "Average of all labelsF1 Score: 0.3648\n",
      "OverallF1 Score: 0.6442\n",
      "F1 Score By Label\n",
      "Label: 3\t0.0000\n",
      "Label: 4\t0.1667\n",
      "Label: 5\t0.6889\n",
      "Label: 6\t0.6272\n",
      "Label: 7\t0.7059\n",
      "Label: 8\t0.0000\n",
      "\n",
      "\n",
      "# Accuracy\n",
      "#\n",
      "# Training Data\n",
      "Accuracy: 0.3480\n",
      "#\n",
      "# Test Data\n",
      "Accuracy: 0.6442\n"
     ]
    },
    {
     "name": "stderr",
     "output_type": "stream",
     "text": [
      "C:\\Users\\gabi_\\Anaconda3\\lib\\site-packages\\sklearn\\metrics\\classification.py:1113: UndefinedMetricWarning: Precision is ill-defined and being set to 0.0 in labels with no predicted samples.\n",
      "  'precision', 'predicted', average, warn_for)\n",
      "C:\\Users\\gabi_\\Anaconda3\\lib\\site-packages\\sklearn\\metrics\\classification.py:1113: UndefinedMetricWarning: F-score is ill-defined and being set to 0.0 in labels with no predicted samples.\n",
      "  'precision', 'predicted', average, warn_for)\n"
     ]
    },
    {
     "name": "stdout",
     "output_type": "stream",
     "text": [
      "\n",
      "Acuracia media para 10 casos de teste: 0.611778846154\n"
     ]
    }
   ],
   "source": [
    "from sklearn import tree\n",
    "\n",
    "clf = tree.DecisionTreeClassifier(random_state=np.random.seed(seed_num))\n",
    "\n",
    "measureModel(clf)"
   ]
  },
  {
   "cell_type": "markdown",
   "metadata": {},
   "source": [
    "### Regressão Logística"
   ]
  },
  {
   "cell_type": "code",
   "execution_count": 169,
   "metadata": {
    "collapsed": false
   },
   "outputs": [
    {
     "name": "stdout",
     "output_type": "stream",
     "text": [
      "Para um dos casos de teste:\n",
      "\n",
      "\n",
      "# Precision\n",
      "#\n",
      "# Training Data\n",
      "Average of all labelsPrecision: 0.1541\n",
      "OverallPrecision: 0.3480\n",
      "Precision By Label\n",
      "Label: 3\t0.0000\n",
      "Label: 4\t0.0000\n",
      "Label: 5\t0.4139\n",
      "Label: 6\t0.3960\n",
      "Label: 7\t0.1149\n",
      "Label: 8\t0.0000\n",
      "#\n",
      "# Test Data\n",
      "Average of all labelsPrecision: 0.3696\n",
      "OverallPrecision: 0.6442\n",
      "Precision By Label\n",
      "Label: 3\t0.0000\n",
      "Label: 4\t0.2000\n",
      "Label: 5\t0.6813\n",
      "Label: 6\t0.6163\n",
      "Label: 7\t0.7200\n",
      "Label: 8\t0.0000\n",
      "\n",
      "\n",
      "# Recall\n",
      "#\n",
      "# Training Data\n",
      "Average of all labelsRecall: 0.1540\n",
      "OverallRecall: 0.3480\n",
      "Recall By Label\n",
      "Label: 3\t0.0000\n",
      "Label: 4\t0.0000\n",
      "Label: 5\t0.4139\n",
      "Label: 6\t0.3946\n",
      "Label: 7\t0.1156\n",
      "Label: 8\t0.0000\n",
      "#\n",
      "# Test Data\n",
      "Average of all labelsRecall: 0.3617\n",
      "OverallRecall: 0.6442\n",
      "Recall By Label\n",
      "Label: 3\t0.0000\n",
      "Label: 4\t0.1429\n",
      "Label: 5\t0.6966\n",
      "Label: 6\t0.6386\n",
      "Label: 7\t0.6923\n",
      "Label: 8\t0.0000\n",
      "\n",
      "\n",
      "# F1 Score\n",
      "#\n",
      "# Training Data\n",
      "Average of all labelsF1 Score: 0.1541\n",
      "OverallF1 Score: 0.3480\n",
      "F1 Score By Label\n",
      "Label: 3\t0.0000\n",
      "Label: 4\t0.0000\n",
      "Label: 5\t0.4139\n",
      "Label: 6\t0.3953\n",
      "Label: 7\t0.1153\n",
      "Label: 8\t0.0000\n",
      "#\n",
      "# Test Data\n",
      "Average of all labelsF1 Score: 0.3648\n",
      "OverallF1 Score: 0.6442\n",
      "F1 Score By Label\n",
      "Label: 3\t0.0000\n",
      "Label: 4\t0.1667\n",
      "Label: 5\t0.6889\n",
      "Label: 6\t0.6272\n",
      "Label: 7\t0.7059\n",
      "Label: 8\t0.0000\n",
      "\n",
      "\n",
      "# Accuracy\n",
      "#\n",
      "# Training Data\n",
      "Accuracy: 0.3480\n",
      "#\n",
      "# Test Data\n",
      "Accuracy: 0.6442\n"
     ]
    },
    {
     "name": "stderr",
     "output_type": "stream",
     "text": [
      "C:\\Users\\gabi_\\Anaconda3\\lib\\site-packages\\sklearn\\metrics\\classification.py:1113: UndefinedMetricWarning: Precision is ill-defined and being set to 0.0 in labels with no predicted samples.\n",
      "  'precision', 'predicted', average, warn_for)\n",
      "C:\\Users\\gabi_\\Anaconda3\\lib\\site-packages\\sklearn\\metrics\\classification.py:1113: UndefinedMetricWarning: F-score is ill-defined and being set to 0.0 in labels with no predicted samples.\n",
      "  'precision', 'predicted', average, warn_for)\n"
     ]
    },
    {
     "name": "stdout",
     "output_type": "stream",
     "text": [
      "\n",
      "Acuracia media para 10 casos de teste: 0.568269230769\n"
     ]
    }
   ],
   "source": [
    "from sklearn import linear_model\n",
    "\n",
    "classifier = linear_model.LogisticRegression(random_state=np.random.seed(seed_num))\n",
    "\n",
    "measureModel(classifier)"
   ]
  },
  {
   "cell_type": "markdown",
   "metadata": {},
   "source": [
    "### Support vector machines "
   ]
  },
  {
   "cell_type": "code",
   "execution_count": 170,
   "metadata": {
    "collapsed": false
   },
   "outputs": [
    {
     "name": "stdout",
     "output_type": "stream",
     "text": [
      "Para um dos casos de teste:\n",
      "\n",
      "\n",
      "# Precision\n",
      "#\n",
      "# Training Data\n",
      "Average of all labelsPrecision: 0.1541\n",
      "OverallPrecision: 0.3480\n",
      "Precision By Label\n",
      "Label: 3\t0.0000\n",
      "Label: 4\t0.0000\n",
      "Label: 5\t0.4139\n",
      "Label: 6\t0.3960\n",
      "Label: 7\t0.1149\n",
      "Label: 8\t0.0000\n",
      "#\n",
      "# Test Data\n",
      "Average of all labelsPrecision: 0.3696\n",
      "OverallPrecision: 0.6442\n",
      "Precision By Label\n",
      "Label: 3\t0.0000\n",
      "Label: 4\t0.2000\n",
      "Label: 5\t0.6813\n",
      "Label: 6\t0.6163\n",
      "Label: 7\t0.7200\n",
      "Label: 8\t0.0000\n",
      "\n",
      "\n",
      "# Recall\n",
      "#\n",
      "# Training Data\n",
      "Average of all labelsRecall: 0.1540\n"
     ]
    },
    {
     "name": "stderr",
     "output_type": "stream",
     "text": [
      "C:\\Users\\gabi_\\Anaconda3\\lib\\site-packages\\sklearn\\metrics\\classification.py:1113: UndefinedMetricWarning: Precision is ill-defined and being set to 0.0 in labels with no predicted samples.\n",
      "  'precision', 'predicted', average, warn_for)\n",
      "C:\\Users\\gabi_\\Anaconda3\\lib\\site-packages\\sklearn\\metrics\\classification.py:1113: UndefinedMetricWarning: F-score is ill-defined and being set to 0.0 in labels with no predicted samples.\n",
      "  'precision', 'predicted', average, warn_for)\n"
     ]
    },
    {
     "name": "stdout",
     "output_type": "stream",
     "text": [
      "OverallRecall: 0.3480\n",
      "Recall By Label\n",
      "Label: 3\t0.0000\n",
      "Label: 4\t0.0000\n",
      "Label: 5\t0.4139\n",
      "Label: 6\t0.3946\n",
      "Label: 7\t0.1156\n",
      "Label: 8\t0.0000\n",
      "#\n",
      "# Test Data\n",
      "Average of all labelsRecall: 0.3617\n",
      "OverallRecall: 0.6442\n",
      "Recall By Label\n",
      "Label: 3\t0.0000\n",
      "Label: 4\t0.1429\n",
      "Label: 5\t0.6966\n",
      "Label: 6\t0.6386\n",
      "Label: 7\t0.6923\n",
      "Label: 8\t0.0000\n",
      "\n",
      "\n",
      "# F1 Score\n",
      "#\n",
      "# Training Data\n",
      "Average of all labelsF1 Score: 0.1541\n",
      "OverallF1 Score: 0.3480\n",
      "F1 Score By Label\n",
      "Label: 3\t0.0000\n",
      "Label: 4\t0.0000\n",
      "Label: 5\t0.4139\n",
      "Label: 6\t0.3953\n",
      "Label: 7\t0.1153\n",
      "Label: 8\t0.0000\n",
      "#\n",
      "# Test Data\n",
      "Average of all labelsF1 Score: 0.3648\n",
      "OverallF1 Score: 0.6442\n",
      "F1 Score By Label\n",
      "Label: 3\t0.0000\n",
      "Label: 4\t0.1667\n",
      "Label: 5\t0.6889\n",
      "Label: 6\t0.6272\n",
      "Label: 7\t0.7059\n",
      "Label: 8\t0.0000\n",
      "\n",
      "\n",
      "# Accuracy\n",
      "#\n",
      "# Training Data\n",
      "Accuracy: 0.3480\n",
      "#\n",
      "# Test Data\n",
      "Accuracy: 0.6442\n",
      "\n",
      "Acuracia media para 10 casos de teste: 0.567788461538\n"
     ]
    }
   ],
   "source": [
    "from sklearn import svm\n",
    "\n",
    "clf = svm.SVC(random_state = np.random.seed(seed_num))\n",
    "\n",
    "measureModel(clf)"
   ]
  },
  {
   "cell_type": "markdown",
   "metadata": {},
   "source": [
    "### Random Forest"
   ]
  },
  {
   "cell_type": "code",
   "execution_count": 171,
   "metadata": {
    "collapsed": false
   },
   "outputs": [
    {
     "name": "stdout",
     "output_type": "stream",
     "text": [
      "Para um dos casos de teste:\n",
      "\n",
      "\n",
      "# Precision\n",
      "#\n",
      "# Training Data\n",
      "Average of all labelsPrecision: 0.1541\n",
      "OverallPrecision: 0.3480\n",
      "Precision By Label\n",
      "Label: 3\t0.0000\n",
      "Label: 4\t0.0000\n",
      "Label: 5\t0.4139\n",
      "Label: 6\t0.3960\n",
      "Label: 7\t0.1149\n",
      "Label: 8\t0.0000\n",
      "#\n",
      "# Test Data\n",
      "Average of all labelsPrecision: 0.3696\n",
      "OverallPrecision: 0.6442\n",
      "Precision By Label\n",
      "Label: 3\t0.0000\n",
      "Label: 4\t0.2000\n",
      "Label: 5\t0.6813\n",
      "Label: 6\t0.6163\n",
      "Label: 7\t0.7200\n",
      "Label: 8\t0.0000\n",
      "\n",
      "\n",
      "# Recall\n",
      "#\n",
      "# Training Data\n",
      "Average of all labelsRecall: 0.1540\n",
      "OverallRecall: 0.3480\n",
      "Recall By Label\n",
      "Label: 3\t0.0000\n",
      "Label: 4\t0.0000\n",
      "Label: 5\t0.4139\n",
      "Label: 6\t0.3946\n",
      "Label: 7\t0.1156\n",
      "Label: 8\t0.0000\n",
      "#\n",
      "# Test Data\n",
      "Average of all labelsRecall: 0.3617\n",
      "OverallRecall: 0.6442\n",
      "Recall By Label\n",
      "Label: 3\t0.0000\n",
      "Label: 4\t0.1429\n",
      "Label: 5\t0.6966\n",
      "Label: 6\t0.6386\n",
      "Label: 7\t0.6923\n",
      "Label: 8\t0.0000\n",
      "\n",
      "\n",
      "# F1 Score\n",
      "#\n",
      "# Training Data\n",
      "Average of all labelsF1 Score: 0.1541\n",
      "OverallF1 Score: 0.3480\n",
      "F1 Score By Label\n",
      "Label: 3\t0.0000\n",
      "Label: 4\t0.0000\n",
      "Label: 5\t0.4139\n",
      "Label: 6\t0.3953\n",
      "Label: 7\t0.1153\n",
      "Label: 8\t0.0000\n",
      "#\n",
      "# Test Data\n",
      "Average of all labelsF1 Score: 0.3648\n",
      "OverallF1 Score: 0.6442\n",
      "F1 Score By Label\n",
      "Label: 3\t0.0000\n",
      "Label: 4\t0.1667\n",
      "Label: 5\t0.6889\n",
      "Label: 6\t0.6272\n",
      "Label: 7\t0.7059\n",
      "Label: 8\t0.0000\n",
      "\n",
      "\n",
      "# Accuracy\n",
      "#\n",
      "# Training Data\n",
      "Accuracy: 0.3480\n",
      "#\n",
      "# Test Data\n",
      "Accuracy: 0.6442\n"
     ]
    },
    {
     "name": "stderr",
     "output_type": "stream",
     "text": [
      "C:\\Users\\gabi_\\Anaconda3\\lib\\site-packages\\sklearn\\metrics\\classification.py:1113: UndefinedMetricWarning: Precision is ill-defined and being set to 0.0 in labels with no predicted samples.\n",
      "  'precision', 'predicted', average, warn_for)\n",
      "C:\\Users\\gabi_\\Anaconda3\\lib\\site-packages\\sklearn\\metrics\\classification.py:1113: UndefinedMetricWarning: F-score is ill-defined and being set to 0.0 in labels with no predicted samples.\n",
      "  'precision', 'predicted', average, warn_for)\n"
     ]
    },
    {
     "name": "stdout",
     "output_type": "stream",
     "text": [
      "\n",
      "Acuracia media para 10 casos de teste: 0.604326923077\n"
     ]
    }
   ],
   "source": [
    "from sklearn.ensemble import RandomForestClassifier\n",
    "\n",
    "clf = RandomForestClassifier(max_depth=6, random_state=seed_num)\n",
    "\n",
    "measureModel(clf)"
   ]
  },
  {
   "cell_type": "markdown",
   "metadata": {},
   "source": [
    "### Avaliação dos métodos de classificação"
   ]
  },
  {
   "cell_type": "code",
   "execution_count": 172,
   "metadata": {
    "collapsed": false
   },
   "outputs": [
    {
     "data": {
      "text/html": [
       "<div>\n",
       "<table border=\"1\" class=\"dataframe\">\n",
       "  <thead>\n",
       "    <tr style=\"text-align: right;\">\n",
       "      <th></th>\n",
       "      <th>KNN</th>\n",
       "      <th>Naive Bayes</th>\n",
       "      <th>Decision Tree</th>\n",
       "      <th>Logistic Regression</th>\n",
       "      <th>SVM</th>\n",
       "      <th>Random Forest</th>\n",
       "    </tr>\n",
       "  </thead>\n",
       "  <tbody>\n",
       "    <tr>\n",
       "      <th>0</th>\n",
       "      <td>0.603365</td>\n",
       "      <td>0.593750</td>\n",
       "      <td>0.646154</td>\n",
       "      <td>0.604808</td>\n",
       "      <td>0.596635</td>\n",
       "      <td>0.637500</td>\n",
       "    </tr>\n",
       "    <tr>\n",
       "      <th>1</th>\n",
       "      <td>0.577163</td>\n",
       "      <td>0.552163</td>\n",
       "      <td>0.611779</td>\n",
       "      <td>0.568269</td>\n",
       "      <td>0.567788</td>\n",
       "      <td>0.604327</td>\n",
       "    </tr>\n",
       "  </tbody>\n",
       "</table>\n",
       "</div>"
      ],
      "text/plain": [
       "        KNN  Naive Bayes  Decision Tree  Logistic Regression       SVM  \\\n",
       "0  0.603365     0.593750       0.646154             0.604808  0.596635   \n",
       "1  0.577163     0.552163       0.611779             0.568269  0.567788   \n",
       "\n",
       "   Random Forest  \n",
       "0       0.637500  \n",
       "1       0.604327  "
      ]
     },
     "execution_count": 172,
     "metadata": {},
     "output_type": "execute_result"
    }
   ],
   "source": [
    "table_data = {}\n",
    "i = 0\n",
    "for column in columns:\n",
    "    table_data[column] = [data[i], data[i + 1]]\n",
    "    i += 2\n",
    "\n",
    "table_all_features = pd.DataFrame(data=table_data, columns=columns)\n",
    "table_all_features"
   ]
  },
  {
   "cell_type": "markdown",
   "metadata": {},
   "source": [
    "A primeira linha são os resultados de \"accuracy\" para os métodos de classificação utilizando todos as features possíveis, e a segunda linha são os resultados de \"accuracy\" mas variando as features utilizadas.\n",
    "<br>\n",
    "Claramente para todos os métodos o \"accuracy\" sem variar as features foi melhor, mas ainda assim ao variar as features não houveram métodos que melhoraram com relação a outros. Os métodos que se destacaram foram a \"Decision Tree\" e a \"Random Forest\" apesar dos resultados de \"accuracy\" terem sido bem próximos.\n",
    "<br>\n",
    "Outro ponto a ser avaliado é que, como dito anteriormente na análise dos dados, as métricas (precision, recall e F1 score) apresentaram bons resultados pros vinhos de qualidade 5, 6 e 7 principalmente pois são os que tinham maior número de exemplos no dataset de entrada, enquanto os vinhos de qualidade 3, 4, 8 puxaram essas métricas e o \"accuracy\" para baixo pois sempre tinham resultados piores devido ao baixo número de exemplos no dataset de entrada.\n",
    "<br>\n",
    "O resultado final de \"accuracy\" dos métodos não foi muito bom ficando entre 0.552163 e 0.637500 mas acredita-se que foi devido ao fato de ter algumas labels com muitos exemplos de entrada e outras com poucos exemplos, sendo essa diferença bem grande. E mesmo utilizando a normalização dos dados para medir o \"accuracy\" isso não melhorou."
   ]
  },
  {
   "cell_type": "markdown",
   "metadata": {},
   "source": [
    "OBS: Os dados foram normalizados somente para medir o \"accuracy\" dos métodos, não foi feito para todos os dados para avaliar de outra forma as métricas de precision, recall e F1 Score. O motivo é porque o F1 Score consegue obter melhores resultados quando existe esse problema algumas labels com muitos casos e outras com poucos casos.\n",
    "<br>\n",
    "OBS2: Alguns \"warnings\" constam no trabalho pois as métricas trabalham com divisão e em alguns casos ocorreram divisões por 0, o que ocasiona esses \"warnings\"."
   ]
  },
  {
   "cell_type": "code",
   "execution_count": null,
   "metadata": {
    "collapsed": true
   },
   "outputs": [],
   "source": []
  }
 ],
 "metadata": {
  "kernelspec": {
   "display_name": "Python 3",
   "language": "python",
   "name": "python3"
  },
  "language_info": {
   "codemirror_mode": {
    "name": "ipython",
    "version": 3
   },
   "file_extension": ".py",
   "mimetype": "text/x-python",
   "name": "python",
   "nbconvert_exporter": "python",
   "pygments_lexer": "ipython3",
   "version": "3.6.0"
  }
 },
 "nbformat": 4,
 "nbformat_minor": 2
}
