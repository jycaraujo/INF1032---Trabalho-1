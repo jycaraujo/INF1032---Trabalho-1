{
 "cells": [
  {
   "cell_type": "markdown",
   "metadata": {},
   "source": [
    "Os arquivos compactados no arquivo dados_CAPES_2018-04-06.zip trazem dados sobre os programas de pós-graduação em Informática de algumas instituições em 2017. Tratam-se de dados públicos, obtidos da plataforma Sucupira da CAPES (https://sucupira.capes.gov.br/sucupira/). \n",
    "\n",
    "O objetivo do trabalho T1.1 é fazer uma análise descritiva e responder algumas perguntas sobre os dados. Sempre que possível, as respostas devem ser dadas numérica e visualmente."
   ]
  },
  {
   "cell_type": "markdown",
   "metadata": {},
   "source": [
    "## Docentes\n",
    "1) Quantos professores (docentes) havia em cada programa em 2017, em cada quadro (permanente, colaborador, visitante)?\n",
    "\n",
    "## Discentes\n",
    "2) Quantos alunos (discentes) de Mestrado/Doutorado havia em cada programa em 2017?\n",
    "\n",
    "## Discentes x Docentes\n",
    "3) Qual foi a taxa de alunos de Mestrado/Doutorado por professor do quadro permanente em cada programa em 2017?\n",
    "\n",
    "4) Qual foi a distribuição de alunos de Mestrado/Doutorado pelos professores de cada programa em 2017?\n",
    "\n",
    "## Trabalhos de Conclusão\n",
    "5) Quantos alunos de Mestrado/Doutorado defenderam suas dissertações/teses em 2017 (arquivo trabalhos.csv)?\n",
    "\n",
    "6) Como os trabalhos de Mestrado/Doutorado defendidos em 2017 foram distribuídos pelas áreas de pesquisa dos programas?\n",
    "\n",
    "7) Como as defesas de Mestrado/Doutorado foram distribuídas ao longo do ano de 2017?\n",
    "\n",
    "## Discentes x Trabalhos de Conclusão\n",
    "8) Qual fração de alunos de Mestrado/Doutorado (do total em cada programa) defendeu em 2017?\n",
    "\n",
    "## Produção\n",
    "9) Quantos artigos de periódico/trabalhos em anais foram publicados por cada programa em 2017?\n",
    "\n",
    "10) Qual é a taxa de artigos de periódico/trabalhos em anais por número de docentes permanentes de cada programa em 2017?\n",
    "\n",
    "11) Qual fração de artigos de periódico/trabalhos em anais publicados em 2017 teve a coautoria de discentes?\n",
    "\n",
    "12) Qual fração de artigos de periódico/trabalhos em anais publicados em 2017 teve a coautoria de participantes externos?\n",
    "\n",
    "## Produção x Qualis\n",
    "13) Qual é a distribuição de artigos de periódico publicados em 2017, por estrato do Qualis?\n",
    "\n",
    "14) Considerando os pesos dos artigos de cada estrato do índice restrito ({'A1': 1, 'A2': 0.85, 'B1': 0.70}), qual o índice restrito relativo de cada programa, considerando apenas os artigos em periódicos, e dividido pelo número de docentes permanentes (ordenado do maior para o menor)?\n",
    "\n",
    "15) Considerando os pesos dos artigos de cada estrato do índice geral ({'A1': 1, 'A2': 0.85, 'B1': 0.70, 'B2': 0.50, 'B3': 0.20, 'B4': 0.10, 'B5': 0.05, 'C': 0.0}), qual o índice geral relativo de cada programa, considerando apenas os artigos em periódicos, e dividido pelo número de docentes permanentes (ordenado do maior para o menor)?"
   ]
  },
  {
   "cell_type": "markdown",
   "metadata": {},
   "source": [
    "# E1) Solução"
   ]
  },
  {
   "cell_type": "code",
   "execution_count": 8,
   "metadata": {},
   "outputs": [
    {
     "data": {
      "text/html": [
       "<div>\n",
       "<style scoped>\n",
       "    .dataframe tbody tr th:only-of-type {\n",
       "        vertical-align: middle;\n",
       "    }\n",
       "\n",
       "    .dataframe tbody tr th {\n",
       "        vertical-align: top;\n",
       "    }\n",
       "\n",
       "    .dataframe thead th {\n",
       "        text-align: right;\n",
       "    }\n",
       "</style>\n",
       "<table border=\"1\" class=\"dataframe\">\n",
       "  <thead>\n",
       "    <tr style=\"text-align: right;\">\n",
       "      <th></th>\n",
       "      <th>CATEGORIA</th>\n",
       "      <th>IES</th>\n",
       "      <th>NOME</th>\n",
       "      <th>ID DO PROFESSOR</th>\n",
       "    </tr>\n",
       "  </thead>\n",
       "  <tbody>\n",
       "    <tr>\n",
       "      <th>0</th>\n",
       "      <td>PERMANENTE</td>\n",
       "      <td>PONTIFÍCIA UNIVERSIDADE CATÓLICA DO RIO DE JAN...</td>\n",
       "      <td>ALBERTO BARBOSA RAPOSO</td>\n",
       "      <td>45079</td>\n",
       "    </tr>\n",
       "    <tr>\n",
       "      <th>1</th>\n",
       "      <td>PERMANENTE</td>\n",
       "      <td>PONTIFÍCIA UNIVERSIDADE CATÓLICA DO RIO DE JAN...</td>\n",
       "      <td>ALESSANDRO FABRICIO GARCIA</td>\n",
       "      <td>45076</td>\n",
       "    </tr>\n",
       "    <tr>\n",
       "      <th>2</th>\n",
       "      <td>COLABORADOR</td>\n",
       "      <td>PONTIFÍCIA UNIVERSIDADE CATÓLICA DO RIO DE JAN...</td>\n",
       "      <td>ANTONIO LUZ FURTADO</td>\n",
       "      <td>45077</td>\n",
       "    </tr>\n",
       "    <tr>\n",
       "      <th>3</th>\n",
       "      <td>PERMANENTE</td>\n",
       "      <td>PONTIFÍCIA UNIVERSIDADE CATÓLICA DO RIO DE JAN...</td>\n",
       "      <td>ARNDT VON STAA</td>\n",
       "      <td>45074</td>\n",
       "    </tr>\n",
       "    <tr>\n",
       "      <th>4</th>\n",
       "      <td>PERMANENTE</td>\n",
       "      <td>PONTIFÍCIA UNIVERSIDADE CATÓLICA DO RIO DE JAN...</td>\n",
       "      <td>BRUNO FEIJO</td>\n",
       "      <td>45093</td>\n",
       "    </tr>\n",
       "  </tbody>\n",
       "</table>\n",
       "</div>"
      ],
      "text/plain": [
       "     CATEGORIA                                                IES  \\\n",
       "0   PERMANENTE  PONTIFÍCIA UNIVERSIDADE CATÓLICA DO RIO DE JAN...   \n",
       "1   PERMANENTE  PONTIFÍCIA UNIVERSIDADE CATÓLICA DO RIO DE JAN...   \n",
       "2  COLABORADOR  PONTIFÍCIA UNIVERSIDADE CATÓLICA DO RIO DE JAN...   \n",
       "3   PERMANENTE  PONTIFÍCIA UNIVERSIDADE CATÓLICA DO RIO DE JAN...   \n",
       "4   PERMANENTE  PONTIFÍCIA UNIVERSIDADE CATÓLICA DO RIO DE JAN...   \n",
       "\n",
       "                         NOME  ID DO PROFESSOR  \n",
       "0      ALBERTO BARBOSA RAPOSO            45079  \n",
       "1  ALESSANDRO FABRICIO GARCIA            45076  \n",
       "2         ANTONIO LUZ FURTADO            45077  \n",
       "3              ARNDT VON STAA            45074  \n",
       "4                 BRUNO FEIJO            45093  "
      ]
     },
     "execution_count": 8,
     "metadata": {},
     "output_type": "execute_result"
    }
   ],
   "source": [
    "import pandas as pd\n",
    "\n",
    "csv_file = \"dados_capes/docentes.csv\"\n",
    "docentes_raw = pd.read_csv(csv_file)\n",
    "docentes_data = docentes_raw\n",
    "docentes_data.shape\n",
    "docentes_data.rename(columns = {'categoria': 'CATEGORIA', 'ies': 'IES', 'nome': 'NOME', 'prof_id': 'ID DO PROFESSOR'}, inplace=True)\n",
    "docentes_data.head()"
   ]
  },
  {
   "cell_type": "code",
   "execution_count": 22,
   "metadata": {},
   "outputs": [
    {
     "data": {
      "text/plain": [
       "{'COLABORADOR': 49, 'PERMANENTE': 440}"
      ]
     },
     "execution_count": 22,
     "metadata": {},
     "output_type": "execute_result"
    },
    {
     "data": {
      "image/png": "[encoded data removed]",
      "text/plain": [
       "<matplotlib.figure.Figure at 0x7fb65d4ce630>"
      ]
     },
     "metadata": {},
     "output_type": "display_data"
    }
   ],
   "source": [
    "import matplotlib as mpl\n",
    "import matplotlib.pyplot as plt\n",
    "%matplotlib inline\n",
    "\n",
    "categoria_columns = docentes_data['CATEGORIA']\n",
    "categorias = {}\n",
    "for column in categoria_columns:\n",
    "    if column not in categorias:\n",
    "        categorias[column] = 1\n",
    "    else:\n",
    "        categorias[column] +=1\n",
    "        \n",
    "x_labels = categorias.keys()\n",
    "y_labels = categorias.values()\n",
    "x = range(len(x_labels))\n",
    "plt.bar(x, y_labels)\n",
    "plt.xticks(x, x_labels)\n",
    "categorias"
   ]
  },
  {
   "cell_type": "code",
   "execution_count": 24,
   "metadata": {},
   "outputs": [
    {
     "data": {
      "image/png": "[encoded data removed]",
      "text/plain": [
       "<matplotlib.figure.Figure at 0x7fb65d268ac8>"
      ]
     },
     "metadata": {},
     "output_type": "display_data"
    }
   ],
   "source": [
    "labels = x_labels\n",
    "sizes = y_labels\n",
    "# explode = (0, 0.1, 0, 0)  # only \"explode\" the 2nd slice (i.e. 'Hogs')\n",
    "\n",
    "fig1, ax1 = plt.subplots()\n",
    "ax1.pie(sizes, labels=labels, autopct='%1.1f%%',\n",
    "        shadow=True, startangle=90)\n",
    "ax1.axis('equal')  # Equal aspect ratio ensures that pie is drawn as a circle.\n",
    "\n",
    "plt.show()"
   ]
  },
  {
   "cell_type": "markdown",
   "metadata": {},
   "source": [
    "# E2) Solução"
   ]
  },
  {
   "cell_type": "code",
   "execution_count": null,
   "metadata": {},
   "outputs": [],
   "source": []
  }
 ],
 "metadata": {
  "kernelspec": {
   "display_name": "Python 3",
   "language": "python",
   "name": "python3"
  },
  "language_info": {
   "codemirror_mode": {
    "name": "ipython",
    "version": 3
   },
   "file_extension": ".py",
   "mimetype": "text/x-python",
   "name": "python",
   "nbconvert_exporter": "python",
   "pygments_lexer": "ipython3",
   "version": "3.6.4"
  }
 },
 "nbformat": 4,
 "nbformat_minor": 2
}
