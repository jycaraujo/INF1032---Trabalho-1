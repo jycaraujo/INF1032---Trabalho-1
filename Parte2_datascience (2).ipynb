{
 "cells": [
  {
   "cell_type": "markdown",
   "metadata": {},
   "source": [
    "O objetivo deste trabalho � comparar diversos m�todos de classifica��o para a base de dados de qualidade de vinhos dispon�vel em https://archive.ics.uci.edu/ml/machine-learning-databases/wine-quality/winequality-red.csv.\n",
    "\n",
    "Voc�s devem encontrar um bom modelo preditivo, variando:\n",
    "\n",
    "o n�mero e conjunto de features (atributos) utilizados\n",
    "o m�todo utilizado\n",
    "a configura��o do algoritmo correspondente (e.g.: n�mero k para nearest neighbors, profundidade para �rvore de decis�o)\n",
    "Voc�s devem listar algumas m�tricas de qualidade, tais como: precision, recall, accuracy e f1_score, e utilizar accuracy como base para a avalia��o final, considerando a accuracy m�dia de 10 itera��es para cada configura��o.\n",
    "\n",
    "Para assegurar que eu obterei os mesmos resultados de voc�s, voc�s devem estabelecer a semente para a gera��o dos n�meros aleat�rios (utilizados para separar os conjuntos de treinamento e teste, por exemplo), utilizando os seguintes comandos no in�cio do seu c�digo (podem utilizar uma outra semente):\n",
    "\n",
    "import random\n",
    "random.seed(1001001)"
   ]
  },
  {
   "cell_type": "code",
   "execution_count": 10,
   "metadata": {
    "collapsed": false
   },
   "outputs": [
    {
     "data": {
      "text/html": [
       "<div>\n",
       "<table border=\"1\" class=\"dataframe\">\n",
       "  <thead>\n",
       "    <tr style=\"text-align: right;\">\n",
       "      <th></th>\n",
       "      <th>fixed acidity</th>\n",
       "      <th>volatile acidity</th>\n",
       "      <th>citric acid</th>\n",
       "      <th>residual sugar</th>\n",
       "      <th>chlorides</th>\n",
       "      <th>free sulfur dioxide</th>\n",
       "      <th>total sulfur dioxide</th>\n",
       "      <th>density</th>\n",
       "      <th>pH</th>\n",
       "      <th>sulphates</th>\n",
       "      <th>alcohol</th>\n",
       "      <th>quality</th>\n",
       "    </tr>\n",
       "  </thead>\n",
       "  <tbody>\n",
       "    <tr>\n",
       "      <th>0</th>\n",
       "      <td>7.4</td>\n",
       "      <td>0.70</td>\n",
       "      <td>0.00</td>\n",
       "      <td>1.9</td>\n",
       "      <td>0.076</td>\n",
       "      <td>11.0</td>\n",
       "      <td>34.0</td>\n",
       "      <td>0.9978</td>\n",
       "      <td>3.51</td>\n",
       "      <td>0.56</td>\n",
       "      <td>9.4</td>\n",
       "      <td>5</td>\n",
       "    </tr>\n",
       "    <tr>\n",
       "      <th>1</th>\n",
       "      <td>7.8</td>\n",
       "      <td>0.88</td>\n",
       "      <td>0.00</td>\n",
       "      <td>2.6</td>\n",
       "      <td>0.098</td>\n",
       "      <td>25.0</td>\n",
       "      <td>67.0</td>\n",
       "      <td>0.9968</td>\n",
       "      <td>3.20</td>\n",
       "      <td>0.68</td>\n",
       "      <td>9.8</td>\n",
       "      <td>5</td>\n",
       "    </tr>\n",
       "    <tr>\n",
       "      <th>2</th>\n",
       "      <td>7.8</td>\n",
       "      <td>0.76</td>\n",
       "      <td>0.04</td>\n",
       "      <td>2.3</td>\n",
       "      <td>0.092</td>\n",
       "      <td>15.0</td>\n",
       "      <td>54.0</td>\n",
       "      <td>0.9970</td>\n",
       "      <td>3.26</td>\n",
       "      <td>0.65</td>\n",
       "      <td>9.8</td>\n",
       "      <td>5</td>\n",
       "    </tr>\n",
       "    <tr>\n",
       "      <th>3</th>\n",
       "      <td>11.2</td>\n",
       "      <td>0.28</td>\n",
       "      <td>0.56</td>\n",
       "      <td>1.9</td>\n",
       "      <td>0.075</td>\n",
       "      <td>17.0</td>\n",
       "      <td>60.0</td>\n",
       "      <td>0.9980</td>\n",
       "      <td>3.16</td>\n",
       "      <td>0.58</td>\n",
       "      <td>9.8</td>\n",
       "      <td>6</td>\n",
       "    </tr>\n",
       "    <tr>\n",
       "      <th>4</th>\n",
       "      <td>7.4</td>\n",
       "      <td>0.70</td>\n",
       "      <td>0.00</td>\n",
       "      <td>1.9</td>\n",
       "      <td>0.076</td>\n",
       "      <td>11.0</td>\n",
       "      <td>34.0</td>\n",
       "      <td>0.9978</td>\n",
       "      <td>3.51</td>\n",
       "      <td>0.56</td>\n",
       "      <td>9.4</td>\n",
       "      <td>5</td>\n",
       "    </tr>\n",
       "  </tbody>\n",
       "</table>\n",
       "</div>"
      ],
      "text/plain": [
       "   fixed acidity  volatile acidity  citric acid  residual sugar  chlorides  \\\n",
       "0            7.4              0.70         0.00             1.9      0.076   \n",
       "1            7.8              0.88         0.00             2.6      0.098   \n",
       "2            7.8              0.76         0.04             2.3      0.092   \n",
       "3           11.2              0.28         0.56             1.9      0.075   \n",
       "4            7.4              0.70         0.00             1.9      0.076   \n",
       "\n",
       "   free sulfur dioxide  total sulfur dioxide  density    pH  sulphates  \\\n",
       "0                 11.0                  34.0   0.9978  3.51       0.56   \n",
       "1                 25.0                  67.0   0.9968  3.20       0.68   \n",
       "2                 15.0                  54.0   0.9970  3.26       0.65   \n",
       "3                 17.0                  60.0   0.9980  3.16       0.58   \n",
       "4                 11.0                  34.0   0.9978  3.51       0.56   \n",
       "\n",
       "   alcohol  quality  \n",
       "0      9.4        5  \n",
       "1      9.8        5  \n",
       "2      9.8        5  \n",
       "3      9.8        6  \n",
       "4      9.4        5  "
      ]
     },
     "execution_count": 10,
     "metadata": {},
     "output_type": "execute_result"
    }
   ],
   "source": [
    "import pandas as pd\n",
    "\n",
    "csv_file = \"https://archive.ics.uci.edu/ml/machine-learning-databases/wine-quality/winequality-red.csv\"\n",
    "wine_raw = pd.read_csv(csv_file, sep=\";\")\n",
    "wine_data = pd.DataFrame(wine_raw)\n",
    "wine_data.head()"
   ]
  },
  {
   "cell_type": "code",
   "execution_count": 11,
   "metadata": {
    "collapsed": false
   },
   "outputs": [
    {
     "data": {
      "text/html": [
       "<div>\n",
       "<table border=\"1\" class=\"dataframe\">\n",
       "  <thead>\n",
       "    <tr style=\"text-align: right;\">\n",
       "      <th></th>\n",
       "      <th>fixed acidity</th>\n",
       "      <th>volatile acidity</th>\n",
       "      <th>citric acid</th>\n",
       "      <th>residual sugar</th>\n",
       "      <th>chlorides</th>\n",
       "      <th>free sulfur dioxide</th>\n",
       "      <th>total sulfur dioxide</th>\n",
       "      <th>density</th>\n",
       "      <th>pH</th>\n",
       "      <th>sulphates</th>\n",
       "      <th>alcohol</th>\n",
       "      <th>quality</th>\n",
       "    </tr>\n",
       "  </thead>\n",
       "  <tbody>\n",
       "    <tr>\n",
       "      <th>count</th>\n",
       "      <td>1599.000000</td>\n",
       "      <td>1599.000000</td>\n",
       "      <td>1599.000000</td>\n",
       "      <td>1599.000000</td>\n",
       "      <td>1599.000000</td>\n",
       "      <td>1599.000000</td>\n",
       "      <td>1599.000000</td>\n",
       "      <td>1599.000000</td>\n",
       "      <td>1599.000000</td>\n",
       "      <td>1599.000000</td>\n",
       "      <td>1599.000000</td>\n",
       "      <td>1599.000000</td>\n",
       "    </tr>\n",
       "    <tr>\n",
       "      <th>mean</th>\n",
       "      <td>8.319637</td>\n",
       "      <td>0.527821</td>\n",
       "      <td>0.270976</td>\n",
       "      <td>2.538806</td>\n",
       "      <td>0.087467</td>\n",
       "      <td>15.874922</td>\n",
       "      <td>46.467792</td>\n",
       "      <td>0.996747</td>\n",
       "      <td>3.311113</td>\n",
       "      <td>0.658149</td>\n",
       "      <td>10.422983</td>\n",
       "      <td>5.636023</td>\n",
       "    </tr>\n",
       "    <tr>\n",
       "      <th>std</th>\n",
       "      <td>1.741096</td>\n",
       "      <td>0.179060</td>\n",
       "      <td>0.194801</td>\n",
       "      <td>1.409928</td>\n",
       "      <td>0.047065</td>\n",
       "      <td>10.460157</td>\n",
       "      <td>32.895324</td>\n",
       "      <td>0.001887</td>\n",
       "      <td>0.154386</td>\n",
       "      <td>0.169507</td>\n",
       "      <td>1.065668</td>\n",
       "      <td>0.807569</td>\n",
       "    </tr>\n",
       "    <tr>\n",
       "      <th>min</th>\n",
       "      <td>4.600000</td>\n",
       "      <td>0.120000</td>\n",
       "      <td>0.000000</td>\n",
       "      <td>0.900000</td>\n",
       "      <td>0.012000</td>\n",
       "      <td>1.000000</td>\n",
       "      <td>6.000000</td>\n",
       "      <td>0.990070</td>\n",
       "      <td>2.740000</td>\n",
       "      <td>0.330000</td>\n",
       "      <td>8.400000</td>\n",
       "      <td>3.000000</td>\n",
       "    </tr>\n",
       "    <tr>\n",
       "      <th>25%</th>\n",
       "      <td>7.100000</td>\n",
       "      <td>0.390000</td>\n",
       "      <td>0.090000</td>\n",
       "      <td>1.900000</td>\n",
       "      <td>0.070000</td>\n",
       "      <td>7.000000</td>\n",
       "      <td>22.000000</td>\n",
       "      <td>0.995600</td>\n",
       "      <td>3.210000</td>\n",
       "      <td>0.550000</td>\n",
       "      <td>9.500000</td>\n",
       "      <td>5.000000</td>\n",
       "    </tr>\n",
       "    <tr>\n",
       "      <th>50%</th>\n",
       "      <td>7.900000</td>\n",
       "      <td>0.520000</td>\n",
       "      <td>0.260000</td>\n",
       "      <td>2.200000</td>\n",
       "      <td>0.079000</td>\n",
       "      <td>14.000000</td>\n",
       "      <td>38.000000</td>\n",
       "      <td>0.996750</td>\n",
       "      <td>3.310000</td>\n",
       "      <td>0.620000</td>\n",
       "      <td>10.200000</td>\n",
       "      <td>6.000000</td>\n",
       "    </tr>\n",
       "    <tr>\n",
       "      <th>75%</th>\n",
       "      <td>9.200000</td>\n",
       "      <td>0.640000</td>\n",
       "      <td>0.420000</td>\n",
       "      <td>2.600000</td>\n",
       "      <td>0.090000</td>\n",
       "      <td>21.000000</td>\n",
       "      <td>62.000000</td>\n",
       "      <td>0.997835</td>\n",
       "      <td>3.400000</td>\n",
       "      <td>0.730000</td>\n",
       "      <td>11.100000</td>\n",
       "      <td>6.000000</td>\n",
       "    </tr>\n",
       "    <tr>\n",
       "      <th>max</th>\n",
       "      <td>15.900000</td>\n",
       "      <td>1.580000</td>\n",
       "      <td>1.000000</td>\n",
       "      <td>15.500000</td>\n",
       "      <td>0.611000</td>\n",
       "      <td>72.000000</td>\n",
       "      <td>289.000000</td>\n",
       "      <td>1.003690</td>\n",
       "      <td>4.010000</td>\n",
       "      <td>2.000000</td>\n",
       "      <td>14.900000</td>\n",
       "      <td>8.000000</td>\n",
       "    </tr>\n",
       "  </tbody>\n",
       "</table>\n",
       "</div>"
      ],
      "text/plain": [
       "       fixed acidity  volatile acidity  citric acid  residual sugar  \\\n",
       "count    1599.000000       1599.000000  1599.000000     1599.000000   \n",
       "mean        8.319637          0.527821     0.270976        2.538806   \n",
       "std         1.741096          0.179060     0.194801        1.409928   \n",
       "min         4.600000          0.120000     0.000000        0.900000   \n",
       "25%         7.100000          0.390000     0.090000        1.900000   \n",
       "50%         7.900000          0.520000     0.260000        2.200000   \n",
       "75%         9.200000          0.640000     0.420000        2.600000   \n",
       "max        15.900000          1.580000     1.000000       15.500000   \n",
       "\n",
       "         chlorides  free sulfur dioxide  total sulfur dioxide      density  \\\n",
       "count  1599.000000          1599.000000           1599.000000  1599.000000   \n",
       "mean      0.087467            15.874922             46.467792     0.996747   \n",
       "std       0.047065            10.460157             32.895324     0.001887   \n",
       "min       0.012000             1.000000              6.000000     0.990070   \n",
       "25%       0.070000             7.000000             22.000000     0.995600   \n",
       "50%       0.079000            14.000000             38.000000     0.996750   \n",
       "75%       0.090000            21.000000             62.000000     0.997835   \n",
       "max       0.611000            72.000000            289.000000     1.003690   \n",
       "\n",
       "                pH    sulphates      alcohol      quality  \n",
       "count  1599.000000  1599.000000  1599.000000  1599.000000  \n",
       "mean      3.311113     0.658149    10.422983     5.636023  \n",
       "std       0.154386     0.169507     1.065668     0.807569  \n",
       "min       2.740000     0.330000     8.400000     3.000000  \n",
       "25%       3.210000     0.550000     9.500000     5.000000  \n",
       "50%       3.310000     0.620000    10.200000     6.000000  \n",
       "75%       3.400000     0.730000    11.100000     6.000000  \n",
       "max       4.010000     2.000000    14.900000     8.000000  "
      ]
     },
     "execution_count": 11,
     "metadata": {},
     "output_type": "execute_result"
    }
   ],
   "source": [
    "wine_raw.describe()"
   ]
  },
  {
   "cell_type": "code",
   "execution_count": 12,
   "metadata": {
    "collapsed": false
   },
   "outputs": [
    {
     "name": "stdout",
     "output_type": "stream",
     "text": [
      "<class 'pandas.core.frame.DataFrame'>\n",
      "RangeIndex: 1599 entries, 0 to 1598\n",
      "Data columns (total 12 columns):\n",
      "fixed acidity           1599 non-null float64\n",
      "volatile acidity        1599 non-null float64\n",
      "citric acid             1599 non-null float64\n",
      "residual sugar          1599 non-null float64\n",
      "chlorides               1599 non-null float64\n",
      "free sulfur dioxide     1599 non-null float64\n",
      "total sulfur dioxide    1599 non-null float64\n",
      "density                 1599 non-null float64\n",
      "pH                      1599 non-null float64\n",
      "sulphates               1599 non-null float64\n",
      "alcohol                 1599 non-null float64\n",
      "quality                 1599 non-null int64\n",
      "dtypes: float64(11), int64(1)\n",
      "memory usage: 150.0 KB\n"
     ]
    }
   ],
   "source": [
    "wine_data.info()"
   ]
  },
  {
   "cell_type": "code",
   "execution_count": 13,
   "metadata": {
    "collapsed": false
   },
   "outputs": [
    {
     "data": {
      "image/png": "[encoded data removed]",
      "text/plain": [
       "<matplotlib.figure.Figure at 0x2b986de6e48>"
      ]
     },
     "metadata": {},
     "output_type": "display_data"
    }
   ],
   "source": [
    "import matplotlib.pyplot as plt\n",
    "wine_data.quality.plot(kind='hist')\n",
    "plt.show()"
   ]
  },
  {
   "cell_type": "code",
   "execution_count": 59,
   "metadata": {
    "collapsed": true
   },
   "outputs": [],
   "source": [
    "import random\n",
    "from sklearn.model_selection import train_test_split\n",
    "import numpy as np\n",
    "from sklearn import neighbors\n",
    "from sklearn import datasets\n",
    "from sklearn import metrics\n",
    "import math\n",
    "\n",
    "# Definir seed utilizada\n",
    "seed_num = 1001001\n",
    "\n",
    "# Definir as features\n",
    "all_features = ['fixed acidity', 'volatile acidity', 'citric acid', \n",
    "            'residual sugar', 'chlorides', 'free sulfur dioxide', \n",
    "            'total sulfur dioxide', 'density', 'pH', \n",
    "            'sulphates', 'alcohol', 'quality']\n",
    "features = ['fixed acidity', 'volatile acidity', 'citric acid', \n",
    "            'residual sugar', 'chlorides', 'free sulfur dioxide', \n",
    "            'total sulfur dioxide', 'density', 'pH', \n",
    "            'sulphates', 'alcohol']\n",
    "outcome_column = 'quality'\n",
    "\n",
    "outcome_labels = sorted(list(set(wine_data.quality)))\n",
    "# print(outcome_labels)\n",
    "\n",
    "\n",
    "Y = np.array(wine_data[outcome_column])"
   ]
  },
  {
   "cell_type": "code",
   "execution_count": 84,
   "metadata": {
    "collapsed": true
   },
   "outputs": [],
   "source": [
    "def define_training_test(attributes, seed_number):\n",
    "    # Separar os conjuntos de treino e teste\n",
    "    Wine_Train, Wine_Test = train_test_split(wine_data, test_size=0.13, stratify=wine_data[outcome_column], random_state=np.random.seed(seed_number))\n",
    "\n",
    "    # Converter os conjuntos de treino para array\n",
    "    X_train = np.array(Wine_Train[attributes])\n",
    "    Y_train = np.array(Wine_Train[outcome_column])\n",
    "#     print(X_train.shape[0], Y_train.shape[0])\n",
    "\n",
    "    # Converter os conjuntos de teste para array\n",
    "    X_test = np.array(Wine_Test[attributes])\n",
    "    Y_test = np.array(Wine_Test[outcome_column])\n",
    "#     print(X_test.shape[0], Y_test.shape[0])\n",
    "\n",
    "    return X_train, Y_train, X_test, Y_test"
   ]
  },
  {
   "cell_type": "code",
   "execution_count": 61,
   "metadata": {
    "collapsed": true
   },
   "outputs": [],
   "source": [
    "from sklearn import metrics\n",
    "\n",
    "_Precision = 1\n",
    "_Recall = 2\n",
    "_F1Score = 3\n",
    "_Accuracy = 4\n",
    "\n",
    "_AverageOfAllScores = 1 # Calcula a precis�o/f1_score/recall de cada label e depois faz a m�dia delas\n",
    "_OverallScore = 2 # Calcula a precis�o/f1_score/recall global\n",
    "_ScoreByLabel = 3 # Calcula a precis�o/f1_score/recall de cada label e retorna elas em um array\n",
    "\n",
    "def calculateScores(real_group, pred_group, score_type, average_type):\n",
    "    if(average_type == _AverageOfAllScores):\n",
    "        chosenAverage = \"macro\"\n",
    "    elif(average_type == _OverallScore):\n",
    "        chosenAverage = \"micro\"\n",
    "    elif(average_type == _ScoreByLabel):\n",
    "        chosenAverage = None\n",
    "    \n",
    "    if(score_type == _Precision):\n",
    "        return metrics.precision_score(y_true=real_group, y_pred=pred_group, average=chosenAverage)\n",
    "    elif(score_type == _Recall):\n",
    "        return metrics.recall_score(y_true=real_group, y_pred=pred_group, average=chosenAverage)\n",
    "    elif(score_type == _F1Score):\n",
    "        return metrics.f1_score(y_true=real_group, y_pred=pred_group, average=chosenAverage)\n",
    "    elif(score_type == _Accuracy):\n",
    "        # Normalizar os dados: Calcula a acur�cia\n",
    "        # Sem normalizar os dados: Calcula o n�mero total de TP\n",
    "        return metrics.accuracy_score(y_true=real_group, y_pred=pred_group, normalize=True)\n",
    "    \n",
    "    \n",
    "scores = ['Precision', 'Recall', 'F1 Score', 'Accuracy']\n",
    "\n",
    "def showScoreResults(score_name, real_group, pred_group):\n",
    "    if(score_name == scores[0]):\n",
    "        method = _Precision\n",
    "    elif(score_name == scores[1]):\n",
    "        method = _Recall\n",
    "    elif(score_name == scores[2]):\n",
    "        method = _F1Score\n",
    "    elif(score_name == scores[3]):\n",
    "        method = _Accuracy\n",
    "        \n",
    "    if(method == _Precision or method == _Recall or method == _F1Score):\n",
    "        score = calculateScores(real_group, pred_group, method, _AverageOfAllScores)\n",
    "        print('Average of all labels' + score_name + ':', '{:6.4f}'.format(score))\n",
    "        score = calculateScores(real_group, pred_group, method, _OverallScore)\n",
    "        print('Overall' + score_name + ':', '{:6.4f}'.format(score))\n",
    "        score = calculateScores(real_group, pred_group, method, _ScoreByLabel)\n",
    "        print(score_name + ' By Label')\n",
    "        for label in outcome_labels:\n",
    "            index = outcome_labels.index(label)\n",
    "            print('Label: ' + str(label) + '\\t' + '{:6.4f}'.format(score[index]))\n",
    "    elif(method == _Accuracy):\n",
    "        score = calculateScores(real_group, pred_group, method, 0)\n",
    "        print(score_name + ':', '{:6.4f}'.format(score))\n",
    "\n",
    "def showScores_TrainAndTest():\n",
    "    for score in scores:\n",
    "        print('\\n')\n",
    "        print('# ' + score)\n",
    "        print('#')\n",
    "        print('# Training Data')\n",
    "        showScoreResults(score, Y_train, Yhat_train)\n",
    "        print('#')\n",
    "        print('# Test Data')\n",
    "        showScoreResults(score, Y_test, Yhat)"
   ]
  },
  {
   "cell_type": "markdown",
   "metadata": {
    "collapsed": true
   },
   "source": [
    "# k-nearest neighbor (kNN)"
   ]
  },
  {
   "cell_type": "code",
   "execution_count": 105,
   "metadata": {
    "collapsed": false
   },
   "outputs": [
    {
     "name": "stdout",
     "output_type": "stream",
     "text": [
      "Para um dos casos de teste:\n",
      "\n",
      "Acuracia media para 10 casos de teste: 0.595673076923\n"
     ]
    }
   ],
   "source": [
    "accuracy_total = []\n",
    "seeds_split_train_test = [47, 24, 16, 394, 12, 46, 78, 20, 1, 108]\n",
    "attributes = features\n",
    "\n",
    "#Create an instance of K-nearest neighbor classifier\n",
    "knn_model = neighbors.KNeighborsClassifier(n_neighbors=1)\n",
    "\n",
    "for i in range (0, 10):\n",
    "    X = np.array(wine_data[attributes])\n",
    "    X_train, Y_train, X_test, Y_test = define_training_test(attributes, seeds_split_train_test[i])\n",
    "\n",
    "    #Train the classifier\n",
    "    knn_model.fit(X_train,Y_train)\n",
    "\n",
    "    #Compute the prediction according to the model\n",
    "    Yhat = knn_model.predict(X_test)\n",
    "\n",
    "    if(i == 0):\n",
    "        print('Para um dos casos de teste:')\n",
    "        Yhat_train = knn_model.predict(X_train)\n",
    "#         showScores_TrainAndTest();\n",
    "\n",
    "    accuracy_total.append(metrics.accuracy_score(y_true=Y_test, y_pred=Yhat, normalize=True))\n",
    "\n",
    "accuracy_avg = np.mean(accuracy_total)\n",
    "\n",
    "print('\\nAcuracia media para 10 casos de teste: ' + str(accuracy_avg))"
   ]
  },
  {
   "cell_type": "markdown",
   "metadata": {},
   "source": [
    "# naive Bayes"
   ]
  },
  {
   "cell_type": "code",
   "execution_count": 106,
   "metadata": {
    "collapsed": false
   },
   "outputs": [
    {
     "name": "stdout",
     "output_type": "stream",
     "text": [
      "Para um dos casos de teste:\n",
      "\n",
      "Acuracia media para 10 casos de teste: 0.540865384615\n"
     ]
    }
   ],
   "source": [
    "from sklearn.naive_bayes import GaussianNB\n",
    "\n",
    "accuracy_total = []\n",
    "seeds_split_train_test = [47, 24, 16, 394, 12, 46, 78, 20, 1, 108]\n",
    "attributes = features\n",
    "\n",
    "gnb = GaussianNB()\n",
    "\n",
    "for i in range (0, 10):\n",
    "    X = np.array(wine_data[attributes])\n",
    "    X_train, Y_train, X_test, Y_test = define_training_test(attributes, seeds_split_train_test[i])\n",
    "\n",
    "    #Train the classifier\n",
    "    gnb.fit(X_train,Y_train)\n",
    "\n",
    "    #Compute the prediction according to the model\n",
    "    Yhat = gnb.predict(X_test)\n",
    "\n",
    "    if(i == 0):\n",
    "        print('Para um dos casos de teste:')\n",
    "        Yhat_train = gnb.predict(X_train)\n",
    "#         showScores_TrainAndTest();\n",
    "\n",
    "    accuracy_total.append(metrics.accuracy_score(y_true=Y_test, y_pred=Yhat, normalize=True))\n",
    "\n",
    "accuracy_avg = np.mean(accuracy_total)\n",
    "\n",
    "print('\\nAcuracia media para 10 casos de teste: ' + str(accuracy_avg))"
   ]
  },
  {
   "cell_type": "markdown",
   "metadata": {},
   "source": [
    "# Decision Tree"
   ]
  },
  {
   "cell_type": "code",
   "execution_count": 107,
   "metadata": {
    "collapsed": false
   },
   "outputs": [
    {
     "name": "stdout",
     "output_type": "stream",
     "text": [
      "Para um dos casos de teste:\n",
      "\n",
      "Acuracia media para 10 casos de teste: 0.618269230769\n"
     ]
    }
   ],
   "source": [
    "from sklearn import tree\n",
    "\n",
    "accuracy_total = []\n",
    "seeds_split_train_test = [47, 24, 16, 394, 12, 46, 78, 20, 1, 108]\n",
    "attributes = features\n",
    "\n",
    "clf = tree.DecisionTreeClassifier(random_state=np.random.seed(seed_num))\n",
    "\n",
    "for i in range (0, 10):\n",
    "    X = np.array(wine_data[attributes])\n",
    "    X_train, Y_train, X_test, Y_test = define_training_test(attributes, seeds_split_train_test[i])\n",
    "    \n",
    "    #Train the classifier\n",
    "    clf = clf.fit(X_train,Y_train)\n",
    "\n",
    "    #Compute the prediction according to the model\n",
    "    Yhat = clf.predict(X_test)\n",
    "\n",
    "    if(i == 0):\n",
    "        print('Para um dos casos de teste:')\n",
    "        Yhat_train = clf.predict(X_train)\n",
    "#         showScores_TrainAndTest();\n",
    "\n",
    "    accuracy_total.append(metrics.accuracy_score(y_true=Y_test, y_pred=Yhat, normalize=True))\n",
    "\n",
    "accuracy_avg = np.mean(accuracy_total)\n",
    "\n",
    "print('\\nAcuracia media para 10 casos de teste: ' + str(accuracy_avg))"
   ]
  },
  {
   "cell_type": "markdown",
   "metadata": {},
   "source": [
    "# Regressao Logistica"
   ]
  },
  {
   "cell_type": "code",
   "execution_count": 108,
   "metadata": {
    "collapsed": false
   },
   "outputs": [
    {
     "name": "stdout",
     "output_type": "stream",
     "text": [
      "Para um dos casos de teste:\n",
      "\n",
      "Acuracia media para 10 casos de teste: 0.565865384615\n"
     ]
    }
   ],
   "source": [
    "from sklearn import linear_model\n",
    "from sklearn.metrics import classification_report\n",
    "\n",
    "accuracy_total = []\n",
    "seeds_split_train_test = [47, 24, 16, 394, 12, 46, 78, 20, 1, 108]\n",
    "attributes = features\n",
    "\n",
    "classifier = linear_model.LogisticRegression(random_state=np.random.seed(seed_num))\n",
    "\n",
    "for i in range (0, 10):\n",
    "    X = np.array(wine_data[attributes])\n",
    "    X_train, Y_train, X_test, Y_test = define_training_test(attributes, seeds_split_train_test[i])\n",
    "    \n",
    "    #Train the classifier\n",
    "    classifier.fit(X_train, Y_train)\n",
    "\n",
    "    #Compute the prediction according to the model\n",
    "    Yhat = classifier.predict(X_test)\n",
    "\n",
    "    if(i == 0):\n",
    "        print('Para um dos casos de teste:')\n",
    "        Yhat_train = classifier.predict(X_train)\n",
    "#         showScores_TrainAndTest();\n",
    "\n",
    "    accuracy_total.append(metrics.accuracy_score(y_true=Y_test, y_pred=Yhat, normalize=True))\n",
    "\n",
    "accuracy_avg = np.mean(accuracy_total)\n",
    "\n",
    "print('\\nAcuracia media para 10 casos de teste: ' + str(accuracy_avg))"
   ]
  },
  {
   "cell_type": "markdown",
   "metadata": {},
   "source": [
    "# Support vector machines "
   ]
  },
  {
   "cell_type": "code",
   "execution_count": 109,
   "metadata": {
    "collapsed": false
   },
   "outputs": [
    {
     "name": "stdout",
     "output_type": "stream",
     "text": [
      "Para um dos casos de teste:\n",
      "\n",
      "Acuracia media para 10 casos de teste: 0.562980769231\n"
     ]
    }
   ],
   "source": [
    "from sklearn import svm\n",
    "\n",
    "accuracy_total = []\n",
    "seeds_split_train_test = [47, 24, 16, 394, 12, 46, 78, 20, 1, 108]\n",
    "attributes = features\n",
    "\n",
    "clf = svm.SVC(random_state = np.random.seed(seed_num))\n",
    "\n",
    "for i in range (0, 10):\n",
    "    X = np.array(wine_data[attributes])\n",
    "    X_train, Y_train, X_test, Y_test = define_training_test(attributes, seeds_split_train_test[i])\n",
    "    \n",
    "    #Train the classifier\n",
    "    clf.fit(X_train, Y_train)\n",
    "\n",
    "    #Compute the prediction according to the model\n",
    "    Yhat = clf.predict(X_test)\n",
    "\n",
    "    if(i == 0):\n",
    "        print('Para um dos casos de teste:')\n",
    "        Yhat_train = clf.predict(X_train)\n",
    "#         showScores_TrainAndTest();\n",
    "\n",
    "    accuracy_total.append(metrics.accuracy_score(y_true=Y_test, y_pred=Yhat, normalize=True))\n",
    "\n",
    "accuracy_avg = np.mean(accuracy_total)\n",
    "\n",
    "print('\\nAcuracia media para 10 casos de teste: ' + str(accuracy_avg))"
   ]
  },
  {
   "cell_type": "code",
   "execution_count": null,
   "metadata": {
    "collapsed": true
   },
   "outputs": [],
   "source": []
  }
 ],
 "metadata": {
  "kernelspec": {
   "display_name": "Python 3",
   "language": "python",
   "name": "python3"
  },
  "language_info": {
   "codemirror_mode": {
    "name": "ipython",
    "version": 3
   },
   "file_extension": ".py",
   "mimetype": "text/x-python",
   "name": "python",
   "nbconvert_exporter": "python",
   "pygments_lexer": "ipython3",
   "version": "3.6.0"
  }
 },
 "nbformat": 4,
 "nbformat_minor": 2
}
