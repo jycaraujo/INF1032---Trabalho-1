{
 "cells": [
  {
   "cell_type": "code",
   "execution_count": 3,
   "metadata": {
    "collapsed": false
   },
   "outputs": [
    {
     "data": {
      "text/html": [
       "<div>\n",
       "<table border=\"1\" class=\"dataframe\">\n",
       "  <thead>\n",
       "    <tr style=\"text-align: right;\">\n",
       "      <th></th>\n",
       "      <th>fixed acidity</th>\n",
       "      <th>volatile acidity</th>\n",
       "      <th>citric acid</th>\n",
       "      <th>residual sugar</th>\n",
       "      <th>chlorides</th>\n",
       "      <th>free sulfur dioxide</th>\n",
       "      <th>total sulfur dioxide</th>\n",
       "      <th>density</th>\n",
       "      <th>pH</th>\n",
       "      <th>sulphates</th>\n",
       "      <th>alcohol</th>\n",
       "      <th>quality</th>\n",
       "    </tr>\n",
       "  </thead>\n",
       "  <tbody>\n",
       "    <tr>\n",
       "      <th>0</th>\n",
       "      <td>7.4</td>\n",
       "      <td>0.70</td>\n",
       "      <td>0.00</td>\n",
       "      <td>1.9</td>\n",
       "      <td>0.076</td>\n",
       "      <td>11.0</td>\n",
       "      <td>34.0</td>\n",
       "      <td>0.9978</td>\n",
       "      <td>3.51</td>\n",
       "      <td>0.56</td>\n",
       "      <td>9.4</td>\n",
       "      <td>5</td>\n",
       "    </tr>\n",
       "    <tr>\n",
       "      <th>1</th>\n",
       "      <td>7.8</td>\n",
       "      <td>0.88</td>\n",
       "      <td>0.00</td>\n",
       "      <td>2.6</td>\n",
       "      <td>0.098</td>\n",
       "      <td>25.0</td>\n",
       "      <td>67.0</td>\n",
       "      <td>0.9968</td>\n",
       "      <td>3.20</td>\n",
       "      <td>0.68</td>\n",
       "      <td>9.8</td>\n",
       "      <td>5</td>\n",
       "    </tr>\n",
       "    <tr>\n",
       "      <th>2</th>\n",
       "      <td>7.8</td>\n",
       "      <td>0.76</td>\n",
       "      <td>0.04</td>\n",
       "      <td>2.3</td>\n",
       "      <td>0.092</td>\n",
       "      <td>15.0</td>\n",
       "      <td>54.0</td>\n",
       "      <td>0.9970</td>\n",
       "      <td>3.26</td>\n",
       "      <td>0.65</td>\n",
       "      <td>9.8</td>\n",
       "      <td>5</td>\n",
       "    </tr>\n",
       "    <tr>\n",
       "      <th>3</th>\n",
       "      <td>11.2</td>\n",
       "      <td>0.28</td>\n",
       "      <td>0.56</td>\n",
       "      <td>1.9</td>\n",
       "      <td>0.075</td>\n",
       "      <td>17.0</td>\n",
       "      <td>60.0</td>\n",
       "      <td>0.9980</td>\n",
       "      <td>3.16</td>\n",
       "      <td>0.58</td>\n",
       "      <td>9.8</td>\n",
       "      <td>6</td>\n",
       "    </tr>\n",
       "    <tr>\n",
       "      <th>4</th>\n",
       "      <td>7.4</td>\n",
       "      <td>0.70</td>\n",
       "      <td>0.00</td>\n",
       "      <td>1.9</td>\n",
       "      <td>0.076</td>\n",
       "      <td>11.0</td>\n",
       "      <td>34.0</td>\n",
       "      <td>0.9978</td>\n",
       "      <td>3.51</td>\n",
       "      <td>0.56</td>\n",
       "      <td>9.4</td>\n",
       "      <td>5</td>\n",
       "    </tr>\n",
       "  </tbody>\n",
       "</table>\n",
       "</div>"
      ],
      "text/plain": [
       "   fixed acidity  volatile acidity  citric acid  residual sugar  chlorides  \\\n",
       "0            7.4              0.70         0.00             1.9      0.076   \n",
       "1            7.8              0.88         0.00             2.6      0.098   \n",
       "2            7.8              0.76         0.04             2.3      0.092   \n",
       "3           11.2              0.28         0.56             1.9      0.075   \n",
       "4            7.4              0.70         0.00             1.9      0.076   \n",
       "\n",
       "   free sulfur dioxide  total sulfur dioxide  density    pH  sulphates  \\\n",
       "0                 11.0                  34.0   0.9978  3.51       0.56   \n",
       "1                 25.0                  67.0   0.9968  3.20       0.68   \n",
       "2                 15.0                  54.0   0.9970  3.26       0.65   \n",
       "3                 17.0                  60.0   0.9980  3.16       0.58   \n",
       "4                 11.0                  34.0   0.9978  3.51       0.56   \n",
       "\n",
       "   alcohol  quality  \n",
       "0      9.4        5  \n",
       "1      9.8        5  \n",
       "2      9.8        5  \n",
       "3      9.8        6  \n",
       "4      9.4        5  "
      ]
     },
     "execution_count": 3,
     "metadata": {},
     "output_type": "execute_result"
    }
   ],
   "source": [
    "import pandas as pd\n",
    "\n",
    "csv_file = \"https://archive.ics.uci.edu/ml/machine-learning-databases/wine-quality/winequality-red.csv\"\n",
    "wine_raw = pd.read_csv(csv_file, sep=\";\")\n",
    "wine_data = wine_raw\n",
    "wine_data.head()"
   ]
  },
  {
   "cell_type": "code",
   "execution_count": 71,
   "metadata": {
    "collapsed": false
   },
   "outputs": [
    {
     "name": "stdout",
     "output_type": "stream",
     "text": [
      "[3, 4, 5, 6, 7, 8]\n",
      "1279 1279\n",
      "320 320\n"
     ]
    }
   ],
   "source": [
    "import random\n",
    "from sklearn.model_selection import train_test_split\n",
    "import numpy as np\n",
    "from sklearn import neighbors\n",
    "from sklearn import datasets\n",
    "from sklearn import metrics\n",
    "\n",
    "# Definir seed utilizada\n",
    "random.seed(1001001)\n",
    "\n",
    "# Definir as features\n",
    "all_features = ['fixed acidity', 'volatile acidity', 'citric acid', \n",
    "            'residual sugar', 'chlorides', 'free sulfur dioxide', \n",
    "            'total sulfur dioxide', 'density', 'pH', \n",
    "            'sulphates', 'alcohol', 'quality']\n",
    "features = ['fixed acidity', 'volatile acidity', 'citric acid', \n",
    "            'residual sugar', 'chlorides', 'free sulfur dioxide', \n",
    "            'total sulfur dioxide', 'density', 'pH', \n",
    "            'sulphates', 'alcohol']\n",
    "outcome_column = 'quality'\n",
    "\n",
    "outcome_labels = sorted(list(set(wine_data.quality)))\n",
    "print(outcome_labels)\n",
    "\n",
    "X = np.array(wine_data[features])\n",
    "Y = np.array(wine_data[outcome_column])\n",
    "\n",
    "# Separar os conjuntos de treino e teste\n",
    "Wine_Train, Wine_Test = train_test_split(wine_data, test_size=0.2, stratify=wine_data[outcome_column])\n",
    "\n",
    "# Converter os conjuntos de treino para array\n",
    "X_train = np.array(Wine_Train[features])\n",
    "Y_train = np.array(Wine_Train[outcome_column])\n",
    "print(X_train.shape[0], Y_train.shape[0])\n",
    "\n",
    "# Converter os conjuntos de teste para array\n",
    "X_test = np.array(Wine_Test[features])\n",
    "Y_test = np.array(Wine_Test[outcome_column])\n",
    "print(X_test.shape[0], Y_test.shape[0])"
   ]
  },
  {
   "cell_type": "code",
   "execution_count": 72,
   "metadata": {
    "collapsed": false
   },
   "outputs": [
    {
     "name": "stdout",
     "output_type": "stream",
     "text": [
      "Predicted value: 5 , real target: 6\n",
      "accuracy in training data: 0.6661\n",
      "accuracy in test data:     0.4938\n"
     ]
    }
   ],
   "source": [
    "#Create an instance of K-nearest neighbor classifier\n",
    "knn_model = neighbors.KNeighborsClassifier(n_neighbors=5)\n",
    "\n",
    "#Train the classifier\n",
    "knn_model.fit(X_train,Y_train)\n",
    "\n",
    "#Compute the prediction according to the model\n",
    "Yhat = knn_model.predict(X_test)\n",
    "\n",
    "print ('Predicted value: ' + str(Yhat[-1]), ', real target: ' + str(Y[-1]))\n",
    "\n",
    "accuracy_train = knn_model.score(X_train, Y_train)\n",
    "print('accuracy in training data:', '{:6.4f}'.format(accuracy_train))\n",
    "accuracy_test = knn_model.score(X_test, Y_test)\n",
    "print('accuracy in test data:    ', '{:6.4f}'.format(accuracy_test))"
   ]
  },
  {
   "cell_type": "code",
   "execution_count": 73,
   "metadata": {
    "collapsed": false
   },
   "outputs": [
    {
     "data": {
      "text/html": [
       "<div>\n",
       "<table border=\"1\" class=\"dataframe\">\n",
       "  <thead>\n",
       "    <tr style=\"text-align: right;\">\n",
       "      <th></th>\n",
       "      <th>true_3</th>\n",
       "      <th>true_4</th>\n",
       "      <th>true_5</th>\n",
       "      <th>true_6</th>\n",
       "      <th>true_7</th>\n",
       "      <th>true_8</th>\n",
       "    </tr>\n",
       "  </thead>\n",
       "  <tbody>\n",
       "    <tr>\n",
       "      <th>pred_3</th>\n",
       "      <td>0</td>\n",
       "      <td>0</td>\n",
       "      <td>0</td>\n",
       "      <td>0</td>\n",
       "      <td>0</td>\n",
       "      <td>0</td>\n",
       "    </tr>\n",
       "    <tr>\n",
       "      <th>pred_4</th>\n",
       "      <td>0</td>\n",
       "      <td>0</td>\n",
       "      <td>6</td>\n",
       "      <td>0</td>\n",
       "      <td>0</td>\n",
       "      <td>0</td>\n",
       "    </tr>\n",
       "    <tr>\n",
       "      <th>pred_5</th>\n",
       "      <td>0</td>\n",
       "      <td>4</td>\n",
       "      <td>88</td>\n",
       "      <td>58</td>\n",
       "      <td>4</td>\n",
       "      <td>0</td>\n",
       "    </tr>\n",
       "    <tr>\n",
       "      <th>pred_6</th>\n",
       "      <td>2</td>\n",
       "      <td>6</td>\n",
       "      <td>40</td>\n",
       "      <td>62</td>\n",
       "      <td>28</td>\n",
       "      <td>1</td>\n",
       "    </tr>\n",
       "    <tr>\n",
       "      <th>pred_7</th>\n",
       "      <td>0</td>\n",
       "      <td>1</td>\n",
       "      <td>2</td>\n",
       "      <td>8</td>\n",
       "      <td>8</td>\n",
       "      <td>2</td>\n",
       "    </tr>\n",
       "    <tr>\n",
       "      <th>pred_8</th>\n",
       "      <td>0</td>\n",
       "      <td>0</td>\n",
       "      <td>0</td>\n",
       "      <td>0</td>\n",
       "      <td>0</td>\n",
       "      <td>0</td>\n",
       "    </tr>\n",
       "  </tbody>\n",
       "</table>\n",
       "</div>"
      ],
      "text/plain": [
       "        true_3  true_4  true_5  true_6  true_7  true_8\n",
       "pred_3       0       0       0       0       0       0\n",
       "pred_4       0       0       6       0       0       0\n",
       "pred_5       0       4      88      58       4       0\n",
       "pred_6       2       6      40      62      28       1\n",
       "pred_7       0       1       2       8       8       2\n",
       "pred_8       0       0       0       0       0       0"
      ]
     },
     "execution_count": 73,
     "metadata": {},
     "output_type": "execute_result"
    }
   ],
   "source": [
    "# Matriz de Confusão\n",
    "confm = metrics.confusion_matrix(Y_test, Yhat, labels=outcome_labels)\n",
    "confmT = confm.T\n",
    "\n",
    "wine_ConfusionMatrix = pd.DataFrame(confmT)\n",
    "wine_ConfusionMatrix.columns = ['true_' + str(val) for val in outcome_labels]\n",
    "wine_ConfusionMatrix.index   = ['pred_' + str(val) for val in outcome_labels]\n",
    "wine_ConfusionMatrix"
   ]
  },
  {
   "cell_type": "code",
   "execution_count": 74,
   "metadata": {
    "collapsed": false
   },
   "outputs": [],
   "source": [
    "# Matriz de Confusão Normalizada\n",
    "# sumPerActualQuality = wine_ConfusionMatrix.apply(sum, axis=0)\n",
    "# print(sumPerActualQuality)\n",
    "# dfWineCMNormalizedByActualValue = wine_ConfusionMatrix.apply((lambda x: x/sumPerActualQuality), axis=1)\n",
    "# dfWineCMNormalizedByActualValue"
   ]
  },
  {
   "cell_type": "code",
   "execution_count": 99,
   "metadata": {
    "collapsed": false
   },
   "outputs": [
    {
     "data": {
      "text/plain": [
       "{'FN': {3: 2, 4: 11, 5: 48, 6: 66, 7: 32, 8: 3},\n",
       " 'FP': {3: 0, 4: 6, 5: 66, 6: 77, 7: 13, 8: 0},\n",
       " 'TN': {3: 318, 4: 303, 5: 118, 6: 115, 7: 267, 8: 317},\n",
       " 'TP': {3: 0, 4: 0, 5: 88, 6: 62, 7: 8, 8: 0}}"
      ]
     },
     "execution_count": 99,
     "metadata": {},
     "output_type": "execute_result"
    }
   ],
   "source": [
    "# Definindo TP, TN, FP e FN para a matriz de confusão\n",
    "# FIXME: Não sei se para a avaliação usamos a matriz normal gerada ou a normalizada, por enquanto estou usando a normal\n",
    "\n",
    "TP = {}\n",
    "for i in outcome_labels:\n",
    "    predicted = 'pred_' + str(i)\n",
    "    real = 'true_' + str(i)\n",
    "    # Marcar como \"true positive\" os elementos que foram preditos como i e eram de fato i\n",
    "    TP[i] = wine_ConfusionMatrix.loc[predicted, real]\n",
    "    \n",
    "FP = {}\n",
    "for i in outcome_labels:\n",
    "    predicted = 'pred_' + str(i)\n",
    "    real = 'true_' + str(i)\n",
    "    FP[i] = 0\n",
    "    j = 0\n",
    "    # Para os elementos que foram preditos como i\n",
    "    for elements_value in wine_ConfusionMatrix.loc[predicted]:\n",
    "        elements = 'true_' + str(outcome_labels[j])\n",
    "        # Mas não forem de fato i, marcar como \"false positive\"\n",
    "        if(elements != real):\n",
    "            FP[i] += elements_value\n",
    "        j += 1\n",
    "        \n",
    "FN = {}\n",
    "for i in outcome_labels:\n",
    "    predicted = 'pred_' + str(i)\n",
    "    real = 'true_' + str(i)\n",
    "    FN[i] = 0\n",
    "    j = 0\n",
    "    # Para os elementos que eram de fato i\n",
    "    for elements_value in wine_ConfusionMatrix.loc[:,real]:\n",
    "        elements = 'pred_' + str(outcome_labels[j])\n",
    "        # Mas não foram preditos como i, marcar como \"false negative\"\n",
    "        if(elements != predicted):\n",
    "            FN[i] += elements_value\n",
    "        j += 1\n",
    "\n",
    "TN = {}\n",
    "for i in outcome_labels:\n",
    "    predicted = 'pred_' + str(i)\n",
    "    real = 'true_' + str(i)\n",
    "    TN[i] = 0\n",
    "    # Para todos os elementos\n",
    "    for index, row in wine_ConfusionMatrix.iterrows():\n",
    "        # Que não foram preditos como i\n",
    "        if(index != predicted):\n",
    "            for j in outcome_labels:\n",
    "                elements = 'true_' + str(j)\n",
    "                # E que de fato não eram i, marcar como \"true negative\"\n",
    "                if(elements != real):\n",
    "                    elements_value = row[elements]\n",
    "                    TN[i] += elements_value\n",
    "\n",
    "metrics = {\n",
    "    'TP': TP,\n",
    "    'FP': FP,\n",
    "    'FN': FN,\n",
    "    'TN': TN\n",
    "}\n",
    "\n",
    "metrics"
   ]
  },
  {
   "cell_type": "code",
   "execution_count": 26,
   "metadata": {
    "collapsed": false
   },
   "outputs": [
    {
     "ename": "NameError",
     "evalue": "name 'TP' is not defined",
     "output_type": "error",
     "traceback": [
      "\u001b[0;31m---------------------------------------------------------------------------\u001b[0m",
      "\u001b[0;31mNameError\u001b[0m                                 Traceback (most recent call last)",
      "\u001b[0;32m<ipython-input-26-552c14b342c8>\u001b[0m in \u001b[0;36m<module>\u001b[0;34m()\u001b[0m\n\u001b[1;32m      3\u001b[0m \u001b[1;31m# precision aka positive predictive value (PPV)\u001b[0m\u001b[1;33m\u001b[0m\u001b[1;33m\u001b[0m\u001b[0m\n\u001b[1;32m      4\u001b[0m \u001b[1;31m# = what fraction of the cases that my model got are true positive?\u001b[0m\u001b[1;33m\u001b[0m\u001b[1;33m\u001b[0m\u001b[0m\n\u001b[0;32m----> 5\u001b[0;31m \u001b[0mprecision\u001b[0m \u001b[1;33m=\u001b[0m \u001b[0mTP\u001b[0m \u001b[1;33m/\u001b[0m \u001b[1;33m(\u001b[0m\u001b[0mTP\u001b[0m \u001b[1;33m+\u001b[0m \u001b[0mFP\u001b[0m\u001b[1;33m)\u001b[0m\u001b[1;33m\u001b[0m\u001b[0m\n\u001b[0m\u001b[1;32m      6\u001b[0m \u001b[0mprint\u001b[0m\u001b[1;33m(\u001b[0m\u001b[1;34m'precision   '\u001b[0m\u001b[1;33m,\u001b[0m \u001b[1;34m'{:7.4f}'\u001b[0m\u001b[1;33m.\u001b[0m\u001b[0mformat\u001b[0m\u001b[1;33m(\u001b[0m\u001b[0mprecision\u001b[0m\u001b[1;33m)\u001b[0m\u001b[1;33m)\u001b[0m\u001b[1;33m\u001b[0m\u001b[0m\n\u001b[1;32m      7\u001b[0m \u001b[0mprint\u001b[0m\u001b[1;33m(\u001b[0m\u001b[1;34m'precision   '\u001b[0m\u001b[1;33m,\u001b[0m \u001b[1;34m'{:7.4f}'\u001b[0m\u001b[1;33m.\u001b[0m\u001b[0mformat\u001b[0m\u001b[1;33m(\u001b[0m\u001b[0mmetrics\u001b[0m\u001b[1;33m.\u001b[0m\u001b[0mprecision_score\u001b[0m\u001b[1;33m(\u001b[0m\u001b[0mY_test\u001b[0m\u001b[1;33m,\u001b[0m \u001b[0mYhat\u001b[0m\u001b[1;33m)\u001b[0m\u001b[1;33m)\u001b[0m\u001b[1;33m,\u001b[0m \u001b[1;34m'(from sklearn.metrics)'\u001b[0m\u001b[1;33m)\u001b[0m\u001b[1;33m\u001b[0m\u001b[0m\n",
      "\u001b[0;31mNameError\u001b[0m: name 'TP' is not defined"
     ]
    }
   ],
   "source": [
    "# Métricas de Qualidade\n",
    "\n",
    "# precision aka positive predictive value (PPV)\n",
    "# = what fraction of the cases that my model got are true positive?\n",
    "precision = TP / (TP + FP)\n",
    "print('precision   ', '{:7.4f}'.format(precision))\n",
    "print('precision   ', '{:7.4f}'.format(metrics.precision_score(Y_test, Yhat)), '(from sklearn.metrics)')\n",
    "\n",
    "# recall aka sensitivity aka hit rate aka true positive rate (TPR) = TP / P\n",
    "# = what fraction of the positive cases did my model get?\n",
    "recall = TP / (TP + FN)\n",
    "print('recall      ', '{:7.4f}'.format(recall))\n",
    "print('recall      ', '{:7.4f}'.format(metrics.recall_score(Y_test, Yhat)), '(from sklearn.metrics)')\n",
    "\n",
    "accuracy = (TP + TN) / (TP + TN + FP + FN)\n",
    "print('accuracy    ', '{:7.4f}'.format(accuracy))\n",
    "print('accuracy    ', '{:7.4f}'.format(metrics.accuracy_score(Y_test, Yhat)), '(from sklearn.metrics)')\n",
    "\n",
    "F1_score = 2 * precision * recall / (precision + recall)\n",
    "print('F1_score    ', '{:7.4f}'.format(F1_score))\n",
    "print('F1_score    ', '{:7.4f}'.format(metrics.f1_score(Y_test, Yhat)), '(from sklearn.metrics)')\n"
   ]
  },
  {
   "cell_type": "code",
   "execution_count": null,
   "metadata": {
    "collapsed": true
   },
   "outputs": [],
   "source": []
  }
 ],
 "metadata": {
  "kernelspec": {
   "display_name": "Python 3",
   "language": "python",
   "name": "python3"
  },
  "language_info": {
   "codemirror_mode": {
    "name": "ipython",
    "version": 3
   },
   "file_extension": ".py",
   "mimetype": "text/x-python",
   "name": "python",
   "nbconvert_exporter": "python",
   "pygments_lexer": "ipython3",
   "version": "3.6.0"
  }
 },
 "nbformat": 4,
 "nbformat_minor": 2
}
